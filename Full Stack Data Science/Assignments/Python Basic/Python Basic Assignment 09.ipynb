{
 "cells": [
  {
   "cell_type": "markdown",
   "id": "major-flavor",
   "metadata": {},
   "source": [
    "![ineuron](https://d24cdstip7q8pz.cloudfront.net/t/ineuron1/content/common/images/final%20logo.png)\n",
    "<h1 align='center'>Python Basic Assignment 09</h1>"
   ]
  },
  {
   "cell_type": "code",
   "execution_count": 6,
   "id": "pregnant-basket",
   "metadata": {},
   "outputs": [],
   "source": [
    "import os"
   ]
  },
  {
   "cell_type": "markdown",
   "id": "homeless-subdivision",
   "metadata": {},
   "source": [
    "### 1. To what does a relative path refer?\n",
    "\n",
    "Answer : \n",
    "\n",
    "- Relative path is a path of file which is relative to a current directory\n",
    "- we can use os.path.relpath(\"Filename\") for getting relative path of file"
   ]
  },
  {
   "cell_type": "code",
   "execution_count": 17,
   "id": "upset-parade",
   "metadata": {},
   "outputs": [
    {
     "data": {
      "text/plain": [
       "'Python Basic Assignment 09'"
      ]
     },
     "execution_count": 17,
     "metadata": {},
     "output_type": "execute_result"
    }
   ],
   "source": [
    "os.path.relpath(\"Python Basic Assignment 09\")"
   ]
  },
  {
   "cell_type": "markdown",
   "id": "answering-tower",
   "metadata": {},
   "source": [
    "### 2. What does an absolute path start with your operating system?\n",
    "\n",
    "Answer : \n",
    "\n",
    "- Absolute path is a complete path of file or folder in system, it is always start with root\n",
    "- I'm using windows system, in it absolute path is always start with '/'\n",
    "- we can use os.path.abspath(\"Filename\") for getting absolute path of file"
   ]
  },
  {
   "cell_type": "code",
   "execution_count": 18,
   "id": "individual-print",
   "metadata": {},
   "outputs": [
    {
     "data": {
      "text/plain": [
       "'F:\\\\Final Assignments\\\\Full Stack Data Science\\\\Assignments\\\\Python Basic\\\\Python Basic Assignment 09'"
      ]
     },
     "execution_count": 18,
     "metadata": {},
     "output_type": "execute_result"
    }
   ],
   "source": [
    "os.path.abspath(\"Python Basic Assignment 09\")"
   ]
  },
  {
   "cell_type": "markdown",
   "id": "scientific-emergency",
   "metadata": {},
   "source": [
    "### 3. What do the functions os.getcwd() and os.chdir() do?\n",
    "\n",
    "Answer:\n",
    "\n",
    "- os.getcwd() this function return a path /unicode string of current working directory\n",
    "\n",
    "- os.chdir() this function helps us to change current working directory to the specified path."
   ]
  },
  {
   "cell_type": "markdown",
   "id": "removed-prayer",
   "metadata": {},
   "source": [
    "### 4. What are the . and .. folders?\n",
    "\n",
    "Answer :\n",
    "\n",
    "-  '.' is use for current working folder\n",
    "\n",
    "- '..' is use for parent folder"
   ]
  },
  {
   "cell_type": "markdown",
   "id": "cutting-going",
   "metadata": {},
   "source": [
    "### 5. In C:\\bacon\\eggs\\spam.txt, which part is the dir name, and which part is the base name?\n",
    "\n",
    "Answer :\n",
    "- dir name is a directory name.\n",
    "    \n",
    "        dir name = C:\\bacon\\eggs\\\n",
    "    \n",
    "- base name is a file name.\n",
    "        \n",
    "        base name = spam.txt"
   ]
  },
  {
   "cell_type": "code",
   "execution_count": 14,
   "id": "neural-salvation",
   "metadata": {},
   "outputs": [
    {
     "data": {
      "text/plain": [
       "'https://github.com/Rushi21-kesh/Full-Stack-Data-Science/blob/main/Full%20Stack%20Data%20Science/Assignments/Python%20Basic'"
      ]
     },
     "execution_count": 14,
     "metadata": {},
     "output_type": "execute_result"
    }
   ],
   "source": [
    "os.path.dirname(\"https://github.com/Rushi21-kesh/Full-Stack-Data-Science/blob/main/Full%20Stack%20Data%20Science/Assignments/Python%20Basic/Python%20Basic%20Assignment%202.ipynb\")"
   ]
  },
  {
   "cell_type": "code",
   "execution_count": 19,
   "id": "german-special",
   "metadata": {},
   "outputs": [
    {
     "data": {
      "text/plain": [
       "'Python%20Basic%20Assignment%202.ipynb'"
      ]
     },
     "execution_count": 19,
     "metadata": {},
     "output_type": "execute_result"
    }
   ],
   "source": [
    "os.path.basename(\"https://github.com/Rushi21-kesh/Full-Stack-Data-Science/blob/main/Full%20Stack%20Data%20Science/Assignments/Python%20Basic/Python%20Basic%20Assignment%202.ipynb\")"
   ]
  },
  {
   "cell_type": "markdown",
   "id": "graphic-raising",
   "metadata": {},
   "source": [
    "### 6. What are the three “mode” arguments that can be passed to the open() function?\n",
    "\n",
    "Answer :\n",
    "\n",
    "- We can pass 'r' , 'w' and 'a' arguments as a mode.\n",
    "- where,\n",
    "    \n",
    "        - 'r' use for reading\n",
    "        - 'w' use for writing\n",
    "        - 'a' use for appendind\n"
   ]
  },
  {
   "cell_type": "markdown",
   "id": "advisory-palmer",
   "metadata": {},
   "source": [
    "### 7. What happens if an existing file is opened in write mode?\n",
    "\n",
    "Answer :\n",
    "\n",
    "    If we open a existing file in write mode, existing file's contents is erased and the file is treated as a new empty file, start writing in same file from starting. "
   ]
  },
  {
   "cell_type": "markdown",
   "id": "limited-civilization",
   "metadata": {},
   "source": [
    "### 8. How do you tell the difference between read() and readlines()?\n",
    "Answer : \n",
    "\n",
    "    - read() function is read each and every character in a file\n",
    "\n",
    "    - readline() function is only reads a single line of the file."
   ]
  },
  {
   "cell_type": "markdown",
   "id": "opposed-italian",
   "metadata": {},
   "source": [
    "### 9. What data structure does a shelf value resemble?\n",
    "Answer : \n",
    "\n",
    "          A shelf value resemble a dictionary value it means it is also a collection of key and values, it is also having keys() , values() function."
   ]
  },
  {
   "cell_type": "markdown",
   "id": "hidden-syria",
   "metadata": {},
   "source": [
    "<h3 align='right'>Thank You ....!"
   ]
  }
 ],
 "metadata": {
  "kernelspec": {
   "display_name": "Python 3",
   "language": "python",
   "name": "python3"
  },
  "language_info": {
   "codemirror_mode": {
    "name": "ipython",
    "version": 3
   },
   "file_extension": ".py",
   "mimetype": "text/x-python",
   "name": "python",
   "nbconvert_exporter": "python",
   "pygments_lexer": "ipython3",
   "version": "3.9.1"
  }
 },
 "nbformat": 4,
 "nbformat_minor": 5
}
