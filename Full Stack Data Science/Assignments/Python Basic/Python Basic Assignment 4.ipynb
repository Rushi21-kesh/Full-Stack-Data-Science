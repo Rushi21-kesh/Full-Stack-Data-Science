{
 "cells": [
  {
   "cell_type": "markdown",
   "id": "supposed-labor",
   "metadata": {},
   "source": [
    "![ineuron](https://d24cdstip7q8pz.cloudfront.net/t/ineuron1/content/common/images/final%20logo.png)\n",
    "\n",
    "<h1 align='center'>Python Basic Assignment 4</h1>"
   ]
  },
  {
   "cell_type": "markdown",
   "id": "dynamic-decision",
   "metadata": {},
   "source": [
    "### 1. What exactly is []?"
   ]
  },
  {
   "cell_type": "markdown",
   "id": "upset-bouquet",
   "metadata": {},
   "source": [
    "#### Answer :\n",
    "    - We studied that anything written in single or double quotes is consider as string.\n",
    "    - Like this anything which is written in [] is consider as list.\n",
    "    - So we can say that [] is a notation of list.\n",
    "    - List is a data Data Structure in python.\n",
    "    - List can be contain anything like integer, string, float, list, tuple, dict, etc.\n",
    "    - List is a mulable, you can able to perform indexing operation on it.\n",
    "\n",
    "        Eg : \n",
    "            l1 = [21,'r',5.35,'data science',['this','is',2,'list']]\n",
    "\n",
    "    - we can create a list using by passing elemet in list() function\n",
    "\n",
    "        Eg:\n",
    "            l2 = list(range(0,10))\n",
    "\n",
    "    - we also able to create an empty list\n",
    "        Eg:\n",
    "            l3 = []"
   ]
  },
  {
   "cell_type": "code",
   "execution_count": 1,
   "id": "genetic-daughter",
   "metadata": {},
   "outputs": [],
   "source": [
    "#creating an empty list\n",
    "l = []"
   ]
  },
  {
   "cell_type": "code",
   "execution_count": 2,
   "id": "massive-berlin",
   "metadata": {},
   "outputs": [
    {
     "data": {
      "text/plain": [
       "list"
      ]
     },
     "execution_count": 2,
     "metadata": {},
     "output_type": "execute_result"
    }
   ],
   "source": [
    "type(l)"
   ]
  },
  {
   "cell_type": "code",
   "execution_count": 3,
   "id": "emerging-gentleman",
   "metadata": {},
   "outputs": [],
   "source": [
    "l1 = [21,'r',5.35,'data science',['this','is',2,'list']]"
   ]
  },
  {
   "cell_type": "code",
   "execution_count": 4,
   "id": "optional-transaction",
   "metadata": {},
   "outputs": [
    {
     "data": {
      "text/plain": [
       "[21, 'r', 5.35, 'data science', ['this', 'is', 2, 'list']]"
      ]
     },
     "execution_count": 4,
     "metadata": {},
     "output_type": "execute_result"
    }
   ],
   "source": [
    "l1"
   ]
  },
  {
   "cell_type": "code",
   "execution_count": 5,
   "id": "copyrighted-fossil",
   "metadata": {},
   "outputs": [
    {
     "data": {
      "text/plain": [
       "list"
      ]
     },
     "execution_count": 5,
     "metadata": {},
     "output_type": "execute_result"
    }
   ],
   "source": [
    "#check type of l1\n",
    "type(l1)"
   ]
  },
  {
   "cell_type": "code",
   "execution_count": 6,
   "id": "early-peninsula",
   "metadata": {},
   "outputs": [],
   "source": [
    "l2 = list(range(1,10))"
   ]
  },
  {
   "cell_type": "code",
   "execution_count": 7,
   "id": "necessary-compilation",
   "metadata": {},
   "outputs": [
    {
     "data": {
      "text/plain": [
       "[1, 2, 3, 4, 5, 6, 7, 8, 9]"
      ]
     },
     "execution_count": 7,
     "metadata": {},
     "output_type": "execute_result"
    }
   ],
   "source": [
    "l2"
   ]
  },
  {
   "cell_type": "code",
   "execution_count": 8,
   "id": "baking-plymouth",
   "metadata": {},
   "outputs": [
    {
     "data": {
      "text/plain": [
       "list"
      ]
     },
     "execution_count": 8,
     "metadata": {},
     "output_type": "execute_result"
    }
   ],
   "source": [
    "type(l2)"
   ]
  },
  {
   "cell_type": "markdown",
   "id": "usual-health",
   "metadata": {},
   "source": [
    "### 2. In a list of values stored in a variable called spam, how would you assign the value 'hello' as the third value? (Assume [2, 4, 6, 8, 10] are in spam.)"
   ]
  },
  {
   "cell_type": "markdown",
   "id": "valid-aruba",
   "metadata": {},
   "source": [
    "#### Answer :\n",
    "    - spam = [2, 4, 6, 8, 10] \n",
    "\n",
    "    - Here, we have a list spam = [2, 4, 6, 8, 10] \n",
    "    - Our task is to assign a value 'Hello' to third value in list\n",
    "    - In our list third value is 6 having index 2\n",
    "    - Therefore, spam[2] = 'hello'"
   ]
  },
  {
   "cell_type": "code",
   "execution_count": 9,
   "id": "graphic-toddler",
   "metadata": {},
   "outputs": [],
   "source": [
    "spam = [2, 4, 6, 8, 10] \n",
    "spam[2] = 'Hello'"
   ]
  },
  {
   "cell_type": "code",
   "execution_count": 10,
   "id": "structured-tamil",
   "metadata": {},
   "outputs": [
    {
     "data": {
      "text/plain": [
       "[2, 4, 'Hello', 8, 10]"
      ]
     },
     "execution_count": 10,
     "metadata": {},
     "output_type": "execute_result"
    }
   ],
   "source": [
    "spam"
   ]
  },
  {
   "cell_type": "markdown",
   "id": "sealed-assessment",
   "metadata": {},
   "source": [
    "- ## Let's pretend the spam includes the list ['a', 'b', 'c', 'd'] for the next three queries."
   ]
  },
  {
   "cell_type": "code",
   "execution_count": 11,
   "id": "congressional-marathon",
   "metadata": {},
   "outputs": [],
   "source": [
    "spam = ['a','b','c','d']"
   ]
  },
  {
   "cell_type": "markdown",
   "id": "hired-outdoors",
   "metadata": {},
   "source": [
    "### 3. What is the value of spam[int(int('3' * 2) / 11)]?"
   ]
  },
  {
   "cell_type": "markdown",
   "id": "italic-dining",
   "metadata": {},
   "source": [
    "#### Answer :\n",
    "   \n",
    "   - spam = ['a','b','c','d']\n",
    "   - we want to find value of spam[int(int('3' * 2) / 11)]\n",
    "       \n",
    "       - first we need to solve : int(int('3' * 2) / 11)\n",
    "                   \n",
    "                   - '3'*2, '3' is a string and here we perform multipication on string for we get an answer is '33'\n",
    "                   - int('3'*2) = int('33') here, int fun convert '33' string to int 33\n",
    "                   - int('3'*2)/11 = 33/11 , here we divide 33 by 11 and get a quotient 3.0\n",
    "                   - int(int('3' * 2) / 11) = int(3.0) here, we convert floating value 3.0 to integer 3\n",
    "                   - spam[int(int('3' * 2) / 11) = spam[3] now our equation is simplified \n",
    "                   - we easily say that we want to find value which is at index 3\n",
    "                   - In python indexing is start from 0 to n-1\n",
    "                   - Value at index 3 in spam is 'd' so :\n",
    "        - final output is 'd'"
   ]
  },
  {
   "cell_type": "code",
   "execution_count": 12,
   "id": "scientific-producer",
   "metadata": {},
   "outputs": [
    {
     "data": {
      "text/plain": [
       "'d'"
      ]
     },
     "execution_count": 12,
     "metadata": {},
     "output_type": "execute_result"
    }
   ],
   "source": [
    "spam[int(int('3' * 2) / 11)]"
   ]
  },
  {
   "cell_type": "markdown",
   "id": "outside-block",
   "metadata": {},
   "source": [
    "### 4. What is the value of spam[-1]?"
   ]
  },
  {
   "cell_type": "markdown",
   "id": "moved-greek",
   "metadata": {},
   "source": [
    "#### Answer :\n",
    "\n",
    "- We can perform indexing on list,there are two ways first is positive indexing other is negative indexing\n",
    "    - Positive indexing is start from 0 and end with n-1 \n",
    "    - Negative indexing is start from -n and end with -1\n",
    "    - where n is a length of list\n",
    "\n",
    "- In given question we have a list spam and want to find value at index -1\n",
    "- We stuied that -1 is a end index of negative indexing \n",
    "- Therefore Final output is : 'd' whiich is last index of spam list\n",
    "\n",
    "![Indexing](https://github.com/Rushi21-kesh/Full-Stack-Data-Science/blob/main/Full%20Stack%20Data%20Science/Assignments/Python%20Basic/indexing.png?raw=true)"
   ]
  },
  {
   "cell_type": "code",
   "execution_count": 13,
   "id": "secret-simpson",
   "metadata": {},
   "outputs": [
    {
     "data": {
      "text/plain": [
       "'d'"
      ]
     },
     "execution_count": 13,
     "metadata": {},
     "output_type": "execute_result"
    }
   ],
   "source": [
    "spam[-1]"
   ]
  },
  {
   "cell_type": "markdown",
   "id": "intellectual-contractor",
   "metadata": {},
   "source": [
    "### 5. What is the value of spam[:2]?"
   ]
  },
  {
   "cell_type": "markdown",
   "id": "regulation-nation",
   "metadata": {},
   "source": [
    "#### Answer : \n",
    "\n",
    "- spam is list and want to find values at index [:2]\n",
    "- we use : when we have multiple indexes and need to find there values\n",
    "- when [:] is present it means all or start to end or find value of every index\n",
    "        Eg:\n",
    "            spam[:] = it return all values at every index\n",
    "            \n",
    "- we can also modify it by passing starting and ending index as per requirement\n",
    "        Eg:\n",
    "            spam[2:] = it retur all values starting from index 2 till end of index\n",
    "            \n",
    "            spam[:2] = it retur all values starting from start and end till n-1,where n is required end index \n",
    "            \n",
    "- Our final output is value which is present at index 0 and 1,this values are 'a' , 'b' . "
   ]
  },
  {
   "cell_type": "code",
   "execution_count": 14,
   "id": "spectacular-fancy",
   "metadata": {},
   "outputs": [
    {
     "data": {
      "text/plain": [
       "['a', 'b']"
      ]
     },
     "execution_count": 14,
     "metadata": {},
     "output_type": "execute_result"
    }
   ],
   "source": [
    "spam[:2]"
   ]
  },
  {
   "cell_type": "markdown",
   "id": "incomplete-christmas",
   "metadata": {},
   "source": [
    "- ## Let's pretend bacon has the list [3.14, 'cat,' 11, 'cat,' True] for the next three questions."
   ]
  },
  {
   "cell_type": "code",
   "execution_count": 15,
   "id": "yellow-rebel",
   "metadata": {},
   "outputs": [
    {
     "ename": "SyntaxError",
     "evalue": "invalid syntax (<ipython-input-15-c9021780b8dc>, line 1)",
     "output_type": "error",
     "traceback": [
      "\u001b[1;36m  File \u001b[1;32m\"<ipython-input-15-c9021780b8dc>\"\u001b[1;36m, line \u001b[1;32m1\u001b[0m\n\u001b[1;33m    bacon = [3.14, 'cat,' 11, 'cat,' True]\u001b[0m\n\u001b[1;37m                          ^\u001b[0m\n\u001b[1;31mSyntaxError\u001b[0m\u001b[1;31m:\u001b[0m invalid syntax\n"
     ]
    }
   ],
   "source": [
    "bacon = [3.14, 'cat,' 11, 'cat,' True]"
   ]
  },
  {
   "cell_type": "markdown",
   "id": "current-bankruptcy",
   "metadata": {},
   "source": [
    "## *Note* : \n",
    "\n",
    "- Given provided list having invalid systax as we seen above\n",
    "- I'm assuming it happned by mistake, I'm solving this syntax error and I'm moving forword"
   ]
  },
  {
   "cell_type": "code",
   "execution_count": 16,
   "id": "yellow-memorabilia",
   "metadata": {},
   "outputs": [],
   "source": [
    "bacon =[3.14, 'cat', 11, 'cat', True]"
   ]
  },
  {
   "cell_type": "markdown",
   "id": "quick-hampshire",
   "metadata": {},
   "source": [
    "### 6. What is the value of bacon.index('cat')?"
   ]
  },
  {
   "cell_type": "markdown",
   "id": "necessary-glossary",
   "metadata": {},
   "source": [
    "#### Answr :\n",
    "   - Here we have an list named bacon and want to find index of value 'cat' using .index() fun.\n",
    "   - In bacon 'cat' value are present two times first at index 1 and secondly at index 3.\n",
    "   - .index() function return a index of first occurrence of specific value\n",
    "   - In given condition we want to find index of 'cat', but 'cat' is present two times.\n",
    "   - So .index() function return index of 'cat' when it occurred first, fist index of 'cat' is 1\n",
    "       \n",
    "           \n",
    "           - Final output is 1."
   ]
  },
  {
   "cell_type": "code",
   "execution_count": 17,
   "id": "ordered-duncan",
   "metadata": {},
   "outputs": [
    {
     "data": {
      "text/plain": [
       "1"
      ]
     },
     "execution_count": 17,
     "metadata": {},
     "output_type": "execute_result"
    }
   ],
   "source": [
    "bacon.index('cat')"
   ]
  },
  {
   "cell_type": "markdown",
   "id": "absent-certification",
   "metadata": {},
   "source": [
    "### 7. How does bacon.append(99) change the look of the list value in bacon?"
   ]
  },
  {
   "cell_type": "markdown",
   "id": "amateur-housing",
   "metadata": {},
   "source": [
    "#### Answer : \n",
    "\n",
    "   - Our current bacon list contain [3.14, 'cat', 11, 'cat', True]\n",
    "   - Meaning of append is start adding at position where we end writting previously\n",
    "   - Here .append() function is help to append values in list at last position\n",
    "   - After performing .append(99) on bacon list we get : \n",
    "       \n",
    "       new bacon list [3.14, 'cat', 11, 'cat', True, 99]"
   ]
  },
  {
   "cell_type": "code",
   "execution_count": 18,
   "id": "assisted-defendant",
   "metadata": {},
   "outputs": [],
   "source": [
    "bacon.append(99)"
   ]
  },
  {
   "cell_type": "code",
   "execution_count": 19,
   "id": "suburban-sensitivity",
   "metadata": {},
   "outputs": [
    {
     "data": {
      "text/plain": [
       "[3.14, 'cat', 11, 'cat', True, 99]"
      ]
     },
     "execution_count": 19,
     "metadata": {},
     "output_type": "execute_result"
    }
   ],
   "source": [
    "bacon"
   ]
  },
  {
   "cell_type": "markdown",
   "id": "smaller-transcript",
   "metadata": {},
   "source": [
    "### 8. How does bacon.remove('cat') change the look of the list in bacon?"
   ]
  },
  {
   "cell_type": "markdown",
   "id": "emotional-tuning",
   "metadata": {},
   "source": [
    "#### Answer : \n",
    "\n",
    "- .remove() function remove that value at first occurrence \n",
    "- bacon.remove('cat') will remove that 'cat' value in bacon list when it occurred first and update bacon list\n",
    "- Final bacon is : [3.14, 11, 'cat', True, 99]"
   ]
  },
  {
   "cell_type": "code",
   "execution_count": 20,
   "id": "smoking-elevation",
   "metadata": {},
   "outputs": [],
   "source": [
    "bacon.remove('cat')"
   ]
  },
  {
   "cell_type": "code",
   "execution_count": 21,
   "id": "fallen-loading",
   "metadata": {},
   "outputs": [
    {
     "data": {
      "text/plain": [
       "[3.14, 11, 'cat', True, 99]"
      ]
     },
     "execution_count": 21,
     "metadata": {},
     "output_type": "execute_result"
    }
   ],
   "source": [
    "bacon"
   ]
  },
  {
   "cell_type": "markdown",
   "id": "danish-championship",
   "metadata": {},
   "source": [
    "### 9. What are the list concatenation and list replication operators?"
   ]
  },
  {
   "cell_type": "markdown",
   "id": "irish-signature",
   "metadata": {},
   "source": [
    "#### Answer :\n",
    "\n",
    "- *list concatenation :*\n",
    "            - list concatenation in simply means adding two or multiple lists\n",
    "            - for concatenation we use '+' operator\n",
    "                \n",
    "                Eg:\n",
    "                    l1 = [2,4,6]                   #list 1\n",
    "                    l2 = ['a','b','c']             #list 2\n",
    "                    l1  + l2                       # perform list concatenation\n",
    "                    [2, 4, 6, 'a', 'b', 'c']       #output\n",
    "                    \n",
    "- *list replication :*\n",
    "            - list replication measn multiplying list with any integer \n",
    "            - for list replication we use '*' operator\n",
    "                \n",
    "                Eg:\n",
    "                    l = [1,2,3]                       #list 1\n",
    "                    l  * 3                            # perform list replication\n",
    "                    [1, 2, 3, 1, 2, 3, 1, 2, 3]       #output"
   ]
  },
  {
   "cell_type": "markdown",
   "id": "twenty-printer",
   "metadata": {},
   "source": [
    "- List Concatenation :"
   ]
  },
  {
   "cell_type": "code",
   "execution_count": 22,
   "id": "fantastic-rescue",
   "metadata": {},
   "outputs": [],
   "source": [
    "l1 = [2,4,6]\n",
    "l2 = ['a','b','c']"
   ]
  },
  {
   "cell_type": "code",
   "execution_count": 23,
   "id": "attached-cornwall",
   "metadata": {},
   "outputs": [
    {
     "data": {
      "text/plain": [
       "[2, 4, 6, 'a', 'b', 'c']"
      ]
     },
     "execution_count": 23,
     "metadata": {},
     "output_type": "execute_result"
    }
   ],
   "source": [
    "l1  + l2"
   ]
  },
  {
   "cell_type": "markdown",
   "id": "respected-twist",
   "metadata": {},
   "source": [
    "- List Replication :"
   ]
  },
  {
   "cell_type": "code",
   "execution_count": 24,
   "id": "indirect-notebook",
   "metadata": {},
   "outputs": [
    {
     "data": {
      "text/plain": [
       "[1, 2, 3, 1, 2, 3, 1, 2, 3]"
      ]
     },
     "execution_count": 24,
     "metadata": {},
     "output_type": "execute_result"
    }
   ],
   "source": [
    "l = [1,2,3]\n",
    "l * 3"
   ]
  },
  {
   "cell_type": "markdown",
   "id": "fiscal-spain",
   "metadata": {},
   "source": [
    "### 10. What is difference between the list methods append() and insert()?"
   ]
  },
  {
   "cell_type": "markdown",
   "id": "viral-wings",
   "metadata": {},
   "source": [
    "#### Answer :\n",
    "\n",
    "- Both append() and insert() methods are use for adding values in list\n",
    "- But difference is that : \n",
    "\n",
    "    - append is add value to the end of the list\n",
    "    \n",
    "        Eg:\n",
    "           l = [1,2,3,4,5,6]            # list\n",
    "           l.append(100)                # append 100 in list l\n",
    "           [1, 2, 3, 4, 5, 6, 100]      # Output\n",
    "           \n",
    "    - insert is add value at any specified index of the list\n",
    "    \n",
    "        Eg:\n",
    "           l = [1, 2, 3, 4, 5, 6]       # list\n",
    "           l.insert(2,0)                # insert 0 at index 2 in list l\n",
    "           [1, 2, 0, 4, 5, 6]           # output"
   ]
  },
  {
   "cell_type": "code",
   "execution_count": 25,
   "id": "appreciated-frequency",
   "metadata": {},
   "outputs": [
    {
     "data": {
      "text/plain": [
       "[1, 2, 3, 4, 5, 6, 100]"
      ]
     },
     "execution_count": 25,
     "metadata": {},
     "output_type": "execute_result"
    }
   ],
   "source": [
    "l = [1,2,3,4,5,6] \n",
    "\n",
    "# append 100 in list l \n",
    "l.append(100)\n",
    "l"
   ]
  },
  {
   "cell_type": "code",
   "execution_count": 26,
   "id": "imposed-polyester",
   "metadata": {},
   "outputs": [
    {
     "data": {
      "text/plain": [
       "[1, 2, 0, 3, 4, 5, 6]"
      ]
     },
     "execution_count": 26,
     "metadata": {},
     "output_type": "execute_result"
    }
   ],
   "source": [
    "l = [1,2,3,4,5,6] \n",
    "\n",
    "# insert 0 at index 2 in list l\n",
    "l.insert(2,0)\n",
    "l"
   ]
  },
  {
   "cell_type": "markdown",
   "id": "heavy-cheat",
   "metadata": {},
   "source": [
    "### 11. What are the two methods for removing items from a list?"
   ]
  },
  {
   "cell_type": "markdown",
   "id": "dynamic-oracle",
   "metadata": {},
   "source": [
    "- remove() and pop() this are the two methods are usew to remove items from list\n",
    "\n",
    "- remove() method take a value as parameter and remove first occurrence of value.\n",
    "    \n",
    "    Eg:\n",
    "        \n",
    "        l = [3, 1, 2, 3, 4, 5, 6]  #list\n",
    "        l.remove()                 # remove 3 from list\n",
    "        [1, 2, 3, 4, 5, 6]         # output\n",
    "        \n",
    "        - Here remove funtion remove 3 from index 0 which is occurred first\n",
    "    \n",
    "    \n",
    "- pop() method by default remove last elemet in the list or ypou need to pass index of value.\n",
    "    \n",
    "    Eg 1. :\n",
    "        \n",
    "        l = [1, 2, 3, 4, 5, 6]  #list\n",
    "        l.pop()                 # use pop\n",
    "        [1, 2, 3, 4, 5]         # output\n",
    "        \n",
    "        - Here, pop funtion remove 6 which is present at last index\n",
    "       \n",
    "    Eg 2. :\n",
    "        \n",
    "        l = [1, 2, 3, 4, 5]     #list\n",
    "        l.pop(2)                # use pop\n",
    "        [1, 2, 4, 5]            # output\n",
    "        \n",
    "        - Here, pop funtion remove 3 which is present at 2nd index"
   ]
  },
  {
   "cell_type": "code",
   "execution_count": 27,
   "id": "immediate-michael",
   "metadata": {},
   "outputs": [
    {
     "data": {
      "text/plain": [
       "[1, 2, 3, 4, 5, 6]"
      ]
     },
     "execution_count": 27,
     "metadata": {},
     "output_type": "execute_result"
    }
   ],
   "source": [
    "l = [3, 1, 2, 3, 4, 5, 6]\n",
    "l.remove(3)\n",
    "l"
   ]
  },
  {
   "cell_type": "code",
   "execution_count": 28,
   "id": "tribal-diameter",
   "metadata": {},
   "outputs": [
    {
     "data": {
      "text/plain": [
       "[1, 2, 3, 4, 5]"
      ]
     },
     "execution_count": 28,
     "metadata": {},
     "output_type": "execute_result"
    }
   ],
   "source": [
    "l = [1, 2, 3, 4, 5, 6]\n",
    "l.pop()\n",
    "l"
   ]
  },
  {
   "cell_type": "code",
   "execution_count": 29,
   "id": "sharp-start",
   "metadata": {},
   "outputs": [
    {
     "data": {
      "text/plain": [
       "[1, 2, 4, 5]"
      ]
     },
     "execution_count": 29,
     "metadata": {},
     "output_type": "execute_result"
    }
   ],
   "source": [
    "l.pop(2)\n",
    "l"
   ]
  },
  {
   "cell_type": "markdown",
   "id": "lucky-spider",
   "metadata": {},
   "source": [
    "### 12. Describe how list values and string values are identical."
   ]
  },
  {
   "cell_type": "markdown",
   "id": "appointed-winning",
   "metadata": {},
   "source": [
    "- In both list and string \n",
    "    - we are able to perform list concatenation and list replication \n",
    "    - we can get length using len() function\n",
    "    - we are able to perform indexing and sclicing operation\n",
    "    - membership (in/not in) operator is work in both\n",
    "    - support for loop"
   ]
  },
  {
   "cell_type": "code",
   "execution_count": 30,
   "id": "rural-arnold",
   "metadata": {},
   "outputs": [],
   "source": [
    "l = [1,2,3,'a','b','c']\n",
    "s = 'datascience'"
   ]
  },
  {
   "cell_type": "code",
   "execution_count": 31,
   "id": "olive-three",
   "metadata": {},
   "outputs": [
    {
     "name": "stdout",
     "output_type": "stream",
     "text": [
      "length of list is : 6\n",
      "length of string is : 11\n"
     ]
    }
   ],
   "source": [
    "# len()\n",
    "print(\"length of list is : {}\\nlength of string is : {}\".format(len(l),len(s)))"
   ]
  },
  {
   "cell_type": "code",
   "execution_count": 32,
   "id": "distant-mountain",
   "metadata": {},
   "outputs": [
    {
     "name": "stdout",
     "output_type": "stream",
     "text": [
      "[1, 2, 3, 'a', 'b', 'c', 1, 2, 3, 'a', 'b', 'c']\n",
      "datasciencedatascience\n"
     ]
    }
   ],
   "source": [
    "# list replication\n",
    "print(l*2)\n",
    "print(s*2)"
   ]
  },
  {
   "cell_type": "code",
   "execution_count": 33,
   "id": "right-preview",
   "metadata": {},
   "outputs": [
    {
     "name": "stdout",
     "output_type": "stream",
     "text": [
      "True\n",
      "True\n"
     ]
    }
   ],
   "source": [
    "# membership (in/not in) operator\n",
    "print(1 in l)\n",
    "print('data' in s)"
   ]
  },
  {
   "cell_type": "code",
   "execution_count": 34,
   "id": "recorded-collaboration",
   "metadata": {},
   "outputs": [
    {
     "name": "stdout",
     "output_type": "stream",
     "text": [
      "1 2 3 a b c \n",
      " ====================\n",
      "d a t a s c i e n c e "
     ]
    }
   ],
   "source": [
    "# for loop\n",
    "for i in l:\n",
    "    print(i,end=' ')\n",
    "    \n",
    "print('\\n','='*20)\n",
    "\n",
    "for i in s:\n",
    "    print(i,end=' ')"
   ]
  },
  {
   "cell_type": "markdown",
   "id": "respective-worry",
   "metadata": {},
   "source": [
    "### 13. What's the difference between tuples and lists?"
   ]
  },
  {
   "cell_type": "markdown",
   "id": "sorted-block",
   "metadata": {},
   "source": [
    "- List and tuple both are the data structures in python\n",
    "- Both are the collection of same and different data types values\n",
    "\n",
    "- Differences are follows :\n",
    "    \n",
    "    - list is denoted as [] and tuple is denoted as ()\n",
    "    - we can perform changes inlist therefore list is mutable and we can't perform changes in tuple therefore tuple is immutable"
   ]
  },
  {
   "cell_type": "markdown",
   "id": "universal-influence",
   "metadata": {},
   "source": [
    "### 14. How do you type a tuple value that only contains the integer 42?\n",
    "\n",
    "#### Answer :\n",
    "    - We studied anything written in () is tuple\n",
    "    - But when we pass single values in () it consider it as simple value\n",
    "    - And if we write multiple values in () it consider it as tuple\n",
    "    - for creating a tuple with single value we need to just give a , after value\n",
    "         Eg :\n",
    "             (42)  # if we check type of this it return int\n",
    "             (42,) # if we check tyoe of this it return tuple"
   ]
  },
  {
   "cell_type": "code",
   "execution_count": 35,
   "id": "asian-worship",
   "metadata": {},
   "outputs": [
    {
     "name": "stdout",
     "output_type": "stream",
     "text": [
      "type of (42) is :  <class 'int'>\n",
      "type of (42,) is :  <class 'tuple'>\n"
     ]
    }
   ],
   "source": [
    "print('type of (42) is : ',type((42)))\n",
    "print('type of (42,) is : ',type((42,)))"
   ]
  },
  {
   "cell_type": "markdown",
   "id": "demanding-laugh",
   "metadata": {},
   "source": [
    "### 15. How do you get a list value's tuple form? How do you get a tuple value's list form?"
   ]
  },
  {
   "cell_type": "markdown",
   "id": "historical-emerald",
   "metadata": {},
   "source": [
    "- We need to use their functions\n",
    "- For getting a list value's tuple form we need to use tuple() function\n",
    "    Eg:\n",
    "            # this is list\n",
    "            lst = [1, 2, 3, 'a', 'b', 'c', 1, 2, 3, 'a', 'b', 'c']\n",
    "            # use function\n",
    "            tuple(lst)\n",
    "            #output\n",
    "            (1, 2, 3, 'a', 'b', 'c', 1, 2, 3, 'a', 'b', 'c')\n",
    "            \n",
    "- For getting a tuple value's list form we need to use list() function\n",
    "    Eg:\n",
    "            # this is tuple\n",
    "            tup = (1, 2, 3, 'a', 'b', 'c', 1, 2, 3, 'a', 'b', 'c')\n",
    "            # use function\n",
    "            list(tup)\n",
    "            #output\n",
    "            [1, 2, 3, 'a', 'b', 'c', 1, 2, 3, 'a', 'b', 'c']"
   ]
  },
  {
   "cell_type": "code",
   "execution_count": 36,
   "id": "indian-boards",
   "metadata": {},
   "outputs": [
    {
     "data": {
      "text/plain": [
       "(1, 2, 3, 'a', 'b', 'c', 1, 2, 3, 'a', 'b', 'c')"
      ]
     },
     "execution_count": 36,
     "metadata": {},
     "output_type": "execute_result"
    }
   ],
   "source": [
    "# Converting list to tuple : \n",
    "\n",
    "# list\n",
    "lst = [1, 2, 3, 'a', 'b', 'c', 1, 2, 3, 'a', 'b', 'c']\n",
    "\n",
    "#function use to convert list -> tuple\n",
    "tup = tuple(lst)\n",
    "\n",
    "#result\n",
    "tup"
   ]
  },
  {
   "cell_type": "code",
   "execution_count": 37,
   "id": "center-sudan",
   "metadata": {},
   "outputs": [
    {
     "data": {
      "text/plain": [
       "[1, 2, 3, 'a', 'b', 'c', 1, 2, 3, 'a', 'b', 'c']"
      ]
     },
     "execution_count": 37,
     "metadata": {},
     "output_type": "execute_result"
    }
   ],
   "source": [
    "# Converting tuple to list\n",
    "\n",
    "#tuple\n",
    "tupl = (1, 2, 3, 'a', 'b', 'c', 1, 2, 3, 'a', 'b', 'c')\n",
    "\n",
    "#function used to convert tuple -> list\n",
    "listt= list(tupl)\n",
    "\n",
    "#result\n",
    "listt"
   ]
  },
  {
   "cell_type": "markdown",
   "id": "possible-command",
   "metadata": {},
   "source": [
    "### 16. Variables that \"contain\" list values are not necessarily lists themselves. Instead, what do they contain?"
   ]
  },
  {
   "cell_type": "markdown",
   "id": "appreciated-instrument",
   "metadata": {},
   "source": [
    "- List is a collection of heterogeneous data types it can be contain string, number, tuple, complex number also list contain lists, etc.\n",
    "\n",
    "Eg:\n",
    "\n",
    "    lst = [1,5,\"data\",6.45,['a','b',1],True]"
   ]
  },
  {
   "cell_type": "code",
   "execution_count": 38,
   "id": "supposed-antarctica",
   "metadata": {},
   "outputs": [
    {
     "data": {
      "text/plain": [
       "[1, 5, 'data', 6.45, ['a', 'b', 1], True]"
      ]
     },
     "execution_count": 38,
     "metadata": {},
     "output_type": "execute_result"
    }
   ],
   "source": [
    "lst = [1,5,\"data\",6.45,['a','b',1],True]\n",
    "lst"
   ]
  },
  {
   "cell_type": "markdown",
   "id": "informal-albuquerque",
   "metadata": {},
   "source": [
    "### 17. How do you distinguish between copy.copy() and copy.deepcopy()?"
   ]
  },
  {
   "cell_type": "markdown",
   "id": "favorite-reliance",
   "metadata": {},
   "source": [
    "#### Answer :\n",
    "\n",
    "- While performing copy.copy() and copy.deepcopy() data must be collection because collection of data are mutable.\n",
    "\n",
    "- Difference between copy.copy() and copy.deepcopy():\n",
    "\n",
    "\n",
    "    - copy.copy() is called as Shallow copy and copy.deepcopy() is called as Deep copy to perform this we need to import copy module\n",
    "\n",
    "    - In shallow copy refrance of the object is copied to other object and in deep copy object is copied into other object\n",
    "\n",
    "    - In shallow copy any change made in copy of object is reflect to original object and in deep copy object do not reflect original object"
   ]
  },
  {
   "cell_type": "code",
   "execution_count": 39,
   "id": "compound-suicide",
   "metadata": {},
   "outputs": [],
   "source": [
    "# import copy module\n",
    "import copy"
   ]
  },
  {
   "cell_type": "code",
   "execution_count": 40,
   "id": "logical-certification",
   "metadata": {},
   "outputs": [
    {
     "name": "stdout",
     "output_type": "stream",
     "text": [
      "[1, 2, [7, 3], 4] [1, 2, [7, 3], 4]\n",
      "[1, 2, [7, 'replace'], 4] [1, 2, [7, 'replace'], 4]\n"
     ]
    }
   ],
   "source": [
    "# perform shallow copy\n",
    "lst1 = [1,2,[7,3],4]\n",
    "lst2 = copy.copy(lst1)\n",
    "print(lst1,lst2)\n",
    "lst2[2][1] = 'replace'\n",
    "print(lst1,lst2)"
   ]
  },
  {
   "cell_type": "markdown",
   "id": "american-thumbnail",
   "metadata": {},
   "source": [
    "Here, we made a change in copy of object lst1 that is lst2 and we see that it reflect to original object."
   ]
  },
  {
   "cell_type": "code",
   "execution_count": 41,
   "id": "operating-spotlight",
   "metadata": {},
   "outputs": [
    {
     "name": "stdout",
     "output_type": "stream",
     "text": [
      "[1, 2, [7, 3], 4] [1, 2, [7, 3], 4]\n",
      "[1, 2, [7, 3], 4] [1, 2, [7, 'replace'], 4]\n"
     ]
    }
   ],
   "source": [
    "# perform deep copy\n",
    "lst1 = [1,2,[7,3],4]\n",
    "lst2 = copy.deepcopy(lst1)\n",
    "print(lst1,lst2)\n",
    "lst2[2][1] = 'replace'\n",
    "print(lst1,lst2)"
   ]
  },
  {
   "cell_type": "markdown",
   "id": "determined-freight",
   "metadata": {},
   "source": [
    "\n",
    "Here, we made a change in copy of object and we see that it does't reflect to original object."
   ]
  },
  {
   "cell_type": "markdown",
   "id": "sufficient-mounting",
   "metadata": {},
   "source": [
    "<h3 align='right'>Thank You!.."
   ]
  }
 ],
 "metadata": {
  "kernelspec": {
   "display_name": "Python 3",
   "language": "python",
   "name": "python3"
  },
  "language_info": {
   "codemirror_mode": {
    "name": "ipython",
    "version": 3
   },
   "file_extension": ".py",
   "mimetype": "text/x-python",
   "name": "python",
   "nbconvert_exporter": "python",
   "pygments_lexer": "ipython3",
   "version": "3.9.1"
  }
 },
 "nbformat": 4,
 "nbformat_minor": 5
}
