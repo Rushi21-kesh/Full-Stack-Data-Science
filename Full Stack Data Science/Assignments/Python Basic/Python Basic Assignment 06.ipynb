{
 "cells": [
  {
   "cell_type": "markdown",
   "id": "expired-stack",
   "metadata": {},
   "source": [
    "![ineuron](https://d24cdstip7q8pz.cloudfront.net/t/ineuron1/content/common/images/final%20logo.png)\n",
    "\n",
    "<h1 align='center'>Python Basic Assignment 6</h1>"
   ]
  },
  {
   "cell_type": "markdown",
   "id": "actual-proceeding",
   "metadata": {},
   "source": [
    "### 1. What are escape characters, and how do you use them?\n",
    "\n",
    "#### Answer :\n",
    "\n",
    "- Escape character is special character which is used to print special characters in string such as whitespace, ' , \\ , etc.\n",
    "\n",
    "- Escape character is denoted by \"\\\"\n",
    "\n",
    "- Special character after escepe characters is considered as simple character\n",
    "\n",
    "        Eg :       \n",
    "            'What's your name'    \n",
    "            \n",
    "             if you righ like this it throw an error but if we used \\ before ' then it run properly\n",
    "            \n",
    "                 = 'What\\'s your name'"
   ]
  },
  {
   "cell_type": "code",
   "execution_count": 1,
   "id": "senior-bathroom",
   "metadata": {},
   "outputs": [
    {
     "ename": "SyntaxError",
     "evalue": "invalid syntax (<ipython-input-1-a0e53eaec042>, line 1)",
     "output_type": "error",
     "traceback": [
      "\u001b[1;36m  File \u001b[1;32m\"<ipython-input-1-a0e53eaec042>\"\u001b[1;36m, line \u001b[1;32m1\u001b[0m\n\u001b[1;33m    printnt('What's your name')\u001b[0m\n\u001b[1;37m                  ^\u001b[0m\n\u001b[1;31mSyntaxError\u001b[0m\u001b[1;31m:\u001b[0m invalid syntax\n"
     ]
    }
   ],
   "source": [
    "printnt('What's your name')"
   ]
  },
  {
   "cell_type": "code",
   "execution_count": 2,
   "id": "broke-boxing",
   "metadata": {},
   "outputs": [
    {
     "name": "stdout",
     "output_type": "stream",
     "text": [
      "What's your name\n"
     ]
    }
   ],
   "source": [
    "print('What\\'s your name')"
   ]
  },
  {
   "cell_type": "markdown",
   "id": "champion-combat",
   "metadata": {},
   "source": [
    "### 2. What do the escape characters n and t stand for?\n",
    "\n",
    "#### Answer :\n",
    "    \n",
    "    - Both n and t is escape characters which is used to print whitespaces.\n",
    "    \n",
    "    - Where,\n",
    "    \n",
    "        \\n = this escape characters is used to print new line\n",
    "        \\t = this escape characters is used to print tab"
   ]
  },
  {
   "cell_type": "code",
   "execution_count": 3,
   "id": "utility-flight",
   "metadata": {},
   "outputs": [
    {
     "name": "stdout",
     "output_type": "stream",
     "text": [
      "Use of \\t : Hello\tWorld\t!\n"
     ]
    }
   ],
   "source": [
    "print(\"Use of \\\\t : Hello\\tWorld\\t!\")"
   ]
  },
  {
   "cell_type": "code",
   "execution_count": 4,
   "id": "dominant-transaction",
   "metadata": {},
   "outputs": [
    {
     "name": "stdout",
     "output_type": "stream",
     "text": [
      "Use of \\n : This is first line\n",
      "This is second line\n",
      "\n"
     ]
    }
   ],
   "source": [
    "print(\"Use of \\\\n : This is first line\\nThis is second line\\n\")"
   ]
  },
  {
   "cell_type": "markdown",
   "id": "restricted-education",
   "metadata": {},
   "source": [
    "### 3. What is the way to include backslash characters in a string?\n",
    "\n",
    "#### Answer :\n",
    "    - blackslash(\\) is a special characters and we stuided that escepe character is used o print any special character so here we use it,\n",
    "        \n",
    "    - print(\"\\\\\")"
   ]
  },
  {
   "cell_type": "code",
   "execution_count": 5,
   "id": "rational-wales",
   "metadata": {},
   "outputs": [
    {
     "name": "stdout",
     "output_type": "stream",
     "text": [
      "\\\n"
     ]
    }
   ],
   "source": [
    "print(\"\\\\\")"
   ]
  },
  {
   "cell_type": "code",
   "execution_count": 6,
   "id": "cardiovascular-paraguay",
   "metadata": {},
   "outputs": [
    {
     "name": "stdout",
     "output_type": "stream",
     "text": [
      "Im tring to print \\ in a string\n"
     ]
    }
   ],
   "source": [
    "print(\"Im tring to print \\\\ in a string\")"
   ]
  },
  {
   "cell_type": "markdown",
   "id": "colonial-employer",
   "metadata": {},
   "source": [
    "### 4. The string \"Howl's Moving Castle\" is a correct value. Why isn't the single quote character in the word Howl's not escaped a problem?\n",
    "\n",
    "#### Answer : \n",
    "    - \"Howl's Moving Castle\" is a given string start with double quote and end with double quote\n",
    "    \n",
    "    - Every thing written in quote is considered as string as there for it print and not throw an escaped problem.\n",
    "    \n",
    "    - Insted of double quotes if our string is start and end with single quote then it definitely throw an Syntax error. As a solution we need to use escape character before ' (How|\\'s)"
   ]
  },
  {
   "cell_type": "code",
   "execution_count": 7,
   "id": "unknown-lawrence",
   "metadata": {},
   "outputs": [
    {
     "data": {
      "text/plain": [
       "\"Howl's Moving Castle\""
      ]
     },
     "execution_count": 7,
     "metadata": {},
     "output_type": "execute_result"
    }
   ],
   "source": [
    "\"Howl's Moving Castle\""
   ]
  },
  {
   "cell_type": "code",
   "execution_count": 8,
   "id": "wooden-military",
   "metadata": {},
   "outputs": [
    {
     "ename": "SyntaxError",
     "evalue": "invalid syntax (<ipython-input-8-d122633addae>, line 1)",
     "output_type": "error",
     "traceback": [
      "\u001b[1;36m  File \u001b[1;32m\"<ipython-input-8-d122633addae>\"\u001b[1;36m, line \u001b[1;32m1\u001b[0m\n\u001b[1;33m    'Howl's Moving Castle'\u001b[0m\n\u001b[1;37m          ^\u001b[0m\n\u001b[1;31mSyntaxError\u001b[0m\u001b[1;31m:\u001b[0m invalid syntax\n"
     ]
    }
   ],
   "source": [
    "'Howl's Moving Castle'"
   ]
  },
  {
   "cell_type": "code",
   "execution_count": 9,
   "id": "driven-belfast",
   "metadata": {},
   "outputs": [
    {
     "data": {
      "text/plain": [
       "\"Howl's Moving Castle\""
      ]
     },
     "execution_count": 9,
     "metadata": {},
     "output_type": "execute_result"
    }
   ],
   "source": [
    "'Howl\\'s Moving Castle'"
   ]
  },
  {
   "cell_type": "markdown",
   "id": "regulated-metallic",
   "metadata": {},
   "source": [
    "### 5. How do you write a string of newlines if you don't want to use the n character?\n",
    "\n",
    "#### Answer :\n",
    "    \n",
    "    If we are don't want to use the n character for creating a newline So we have a option to use Multiline strings.\n",
    "        \n",
    "        Eg:\n",
    "            mult_str = \"\"\" \n",
    "                        Hello team,\n",
    "                            You work hard for us.\n",
    "                            Thank you!\"\"\""
   ]
  },
  {
   "cell_type": "code",
   "execution_count": 10,
   "id": "surrounded-coast",
   "metadata": {},
   "outputs": [
    {
     "name": "stdout",
     "output_type": "stream",
     "text": [
      "\n",
      "Hello team,\n",
      "You work hard for us.\n",
      "   Thank you!\n",
      "   \n"
     ]
    }
   ],
   "source": [
    "mult_str = \"\"\"\n",
    "Hello team,\n",
    "You work hard for us.\n",
    "   Thank you!\n",
    "   \"\"\"\n",
    "\n",
    "print(mult_str)"
   ]
  },
  {
   "cell_type": "markdown",
   "id": "subtle-sustainability",
   "metadata": {},
   "source": [
    "### 6. What are the values of the given expressions?\n",
    "\n",
    "#### Answer :\n",
    "    \n",
    "    - Here, we are performming indexing operation on string 'Hello, world!'.\n",
    "    \n",
    "        'Hello, world!'[1] = > it return element in string which is at index 1\n",
    "            Answer = 'e'\n",
    "\n",
    "        'Hello, world!'[0:5] => it return all elements in string from index 0 to 5-1\n",
    "            Answer = 'Hello'\n",
    "\n",
    "        'Hello, world!'[:5] => it return all elements in string from index start to 5-1\n",
    "            Answer = 'Hello'\n",
    "\n",
    "        'Hello, world!'[3:] => it return all elements in string from index 3 to end/last\n",
    "            Answer = 'lo, world!'"
   ]
  },
  {
   "cell_type": "code",
   "execution_count": 11,
   "id": "connected-worcester",
   "metadata": {},
   "outputs": [
    {
     "data": {
      "text/plain": [
       "'e'"
      ]
     },
     "execution_count": 11,
     "metadata": {},
     "output_type": "execute_result"
    }
   ],
   "source": [
    "'Hello, world!'[1]"
   ]
  },
  {
   "cell_type": "code",
   "execution_count": 12,
   "id": "independent-johns",
   "metadata": {},
   "outputs": [
    {
     "data": {
      "text/plain": [
       "'Hello'"
      ]
     },
     "execution_count": 12,
     "metadata": {},
     "output_type": "execute_result"
    }
   ],
   "source": [
    "'Hello, world!'[0:5]"
   ]
  },
  {
   "cell_type": "code",
   "execution_count": 13,
   "id": "provincial-senior",
   "metadata": {},
   "outputs": [
    {
     "data": {
      "text/plain": [
       "'Hello'"
      ]
     },
     "execution_count": 13,
     "metadata": {},
     "output_type": "execute_result"
    }
   ],
   "source": [
    "'Hello, world!'[:5]"
   ]
  },
  {
   "cell_type": "code",
   "execution_count": 14,
   "id": "blessed-medicine",
   "metadata": {},
   "outputs": [
    {
     "data": {
      "text/plain": [
       "'lo, world!'"
      ]
     },
     "execution_count": 14,
     "metadata": {},
     "output_type": "execute_result"
    }
   ],
   "source": [
    "'Hello, world!'[3:]"
   ]
  },
  {
   "cell_type": "markdown",
   "id": "welsh-mumbai",
   "metadata": {},
   "source": [
    "### 7. What are the values of the following expressions?\n",
    "    - 'Hello'.upper()\n",
    "            upper() function convert string 'Hello' in uppercase\n",
    "            Answe = 'HELLO'\n",
    "            \n",
    "    - 'Hello'.upper().isupper()\n",
    "            upper() function convert string 'Hello' in uppercase after that isupper() function check string is in uppercase or not. here upper() function convert 'Hello' to upeercase and isupper return True. \n",
    "            Answe = True\n",
    "    \n",
    "    - 'Hello'.upper().lower()\n",
    "            upper() function convert string 'Hello' in uppercase and lower() function conver it into lowercase\n",
    "            Answe = 'hello'"
   ]
  },
  {
   "cell_type": "code",
   "execution_count": 15,
   "id": "dressed-northern",
   "metadata": {},
   "outputs": [
    {
     "data": {
      "text/plain": [
       "'HELLO'"
      ]
     },
     "execution_count": 15,
     "metadata": {},
     "output_type": "execute_result"
    }
   ],
   "source": [
    "'Hello'.upper()"
   ]
  },
  {
   "cell_type": "code",
   "execution_count": 16,
   "id": "trained-seminar",
   "metadata": {},
   "outputs": [
    {
     "data": {
      "text/plain": [
       "True"
      ]
     },
     "execution_count": 16,
     "metadata": {},
     "output_type": "execute_result"
    }
   ],
   "source": [
    "'Hello'.upper().isupper()"
   ]
  },
  {
   "cell_type": "code",
   "execution_count": 17,
   "id": "japanese-communication",
   "metadata": {},
   "outputs": [
    {
     "data": {
      "text/plain": [
       "'hello'"
      ]
     },
     "execution_count": 17,
     "metadata": {},
     "output_type": "execute_result"
    }
   ],
   "source": [
    "'Hello'.upper().lower()"
   ]
  },
  {
   "cell_type": "markdown",
   "id": "taken-instrument",
   "metadata": {},
   "source": [
    "### 8. What are the values of the following expressions?\n",
    "    'Remember, remember, the fifth of July.'.split()\n",
    "        => Split function split a string and create a list. Here, seprater is not mentioned so it take default separator which is any whitespace.\n",
    "        \n",
    "            ['Remember,', 'remember,', 'the', 'fifth', 'of', 'July.']\n",
    "    \n",
    "\n",
    "    '-'.join('There can only one.'.split()\n",
    "        => Here, also split function create a list, take whitespace is a default seprator. After that list elements is join using .join() function and return it in string form. We use '-' for joining a list elements\n",
    "        \n",
    "            'There-can-only-one.'"
   ]
  },
  {
   "cell_type": "code",
   "execution_count": 18,
   "id": "fundamental-lunch",
   "metadata": {},
   "outputs": [
    {
     "data": {
      "text/plain": [
       "['Remember,', 'remember,', 'the', 'fifth', 'of', 'July.']"
      ]
     },
     "execution_count": 18,
     "metadata": {},
     "output_type": "execute_result"
    }
   ],
   "source": [
    "'Remember, remember, the fifth of July.'.split()"
   ]
  },
  {
   "cell_type": "code",
   "execution_count": 19,
   "id": "adjacent-bristol",
   "metadata": {},
   "outputs": [
    {
     "data": {
      "text/plain": [
       "'There-can-only-one.'"
      ]
     },
     "execution_count": 19,
     "metadata": {},
     "output_type": "execute_result"
    }
   ],
   "source": [
    "'-'.join('There can only one.'.split())"
   ]
  },
  {
   "cell_type": "markdown",
   "id": "corrected-liberty",
   "metadata": {},
   "source": [
    "### 9. What are the methods for right-justifying, left-justifying, and centering a string?\n",
    "\n",
    "#### Answer :\n",
    "        \n",
    "        - Method used for right-justifying a string is rjust()\n",
    "        \n",
    "        - Method used for left-justifying a string is ljust()\n",
    "        \n",
    "        - Method used for centering a string is center()"
   ]
  },
  {
   "cell_type": "code",
   "execution_count": 20,
   "id": "artistic-confidence",
   "metadata": {},
   "outputs": [
    {
     "name": "stdout",
     "output_type": "stream",
     "text": [
      "right-justifying:                   Full stack data science\n",
      "\n",
      "left-justifying :  @@@@@@@@Full stack data science@@@@@@@@@\n",
      "\n",
      "centering       :  Full stack data science                 \n"
     ]
    }
   ],
   "source": [
    "string = 'Full stack data science'\n",
    "\n",
    "print('right-justifying: ',string.rjust(40))\n",
    "print('\\nleft-justifying : ',string.center(40,\"@\"))\n",
    "print('\\ncentering       : ',string.ljust(40))"
   ]
  },
  {
   "cell_type": "markdown",
   "id": "excessive-strain",
   "metadata": {},
   "source": [
    "### 10. What is the best way to remove whitespace characters from the start or end?\n",
    "\n",
    "#### Answer :\n",
    "\n",
    "        - For removing a whitespace from start we use .lstrip()\n",
    "        \n",
    "        - For removing a whitespace from end we use .rstrip()\n",
    "        \n",
    "        - For removing a whitespace from whole string start to end we use .strip()"
   ]
  },
  {
   "cell_type": "code",
   "execution_count": 21,
   "id": "divine-garden",
   "metadata": {},
   "outputs": [
    {
     "name": "stdout",
     "output_type": "stream",
     "text": [
      "Data Science    \n",
      "    Data Science\n",
      "Data Science\n"
     ]
    }
   ],
   "source": [
    "string = \"    Data Science    \"\n",
    "\n",
    "# For removing a whitespace from start\n",
    "print(string.lstrip())\n",
    "\n",
    "# For removing a whitespace from end\n",
    "print(string.rstrip())\n",
    "\n",
    "# For removing a whitespace from string\n",
    "print(string.strip())"
   ]
  },
  {
   "cell_type": "markdown",
   "id": "prompt-chain",
   "metadata": {},
   "source": [
    "<h3 align='right'>Thank you! ....."
   ]
  }
 ],
 "metadata": {
  "kernelspec": {
   "display_name": "Python 3",
   "language": "python",
   "name": "python3"
  },
  "language_info": {
   "codemirror_mode": {
    "name": "ipython",
    "version": 3
   },
   "file_extension": ".py",
   "mimetype": "text/x-python",
   "name": "python",
   "nbconvert_exporter": "python",
   "pygments_lexer": "ipython3",
   "version": "3.9.1"
  }
 },
 "nbformat": 4,
 "nbformat_minor": 5
}
