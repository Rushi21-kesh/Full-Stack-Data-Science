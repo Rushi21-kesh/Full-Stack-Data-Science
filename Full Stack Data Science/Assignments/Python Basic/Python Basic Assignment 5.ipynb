{
 "cells": [
  {
   "cell_type": "markdown",
   "id": "correct-bangladesh",
   "metadata": {},
   "source": [
    "![ineuron](https://d24cdstip7q8pz.cloudfront.net/t/ineuron1/content/common/images/final%20logo.png)\n",
    "\n",
    "<h1 align='center'>Python Basic Assignment 5</h1>"
   ]
  },
  {
   "cell_type": "markdown",
   "id": "addressed-tablet",
   "metadata": {},
   "source": [
    "### 1. What does an empty dictionary's code look like?\n",
    "\n",
    "#### Answer :\n",
    "\n",
    "- We studied anything written in []/ square brackets is a list, like that anything written in {}/curly brackets is adictionary but make sure that it is a key:value pair.\n",
    "\n",
    "- Empty dictionary is a only curly brackets \n",
    "   \n",
    "    Eg:\n",
    "        Empty Dictionary : { }"
   ]
  },
  {
   "cell_type": "code",
   "execution_count": 3,
   "id": "functioning-scout",
   "metadata": {},
   "outputs": [],
   "source": [
    "aempty_dict = {}"
   ]
  },
  {
   "cell_type": "code",
   "execution_count": 4,
   "id": "revolutionary-encounter",
   "metadata": {},
   "outputs": [
    {
     "data": {
      "text/plain": [
       "dict"
      ]
     },
     "execution_count": 4,
     "metadata": {},
     "output_type": "execute_result"
    }
   ],
   "source": [
    "type(empty_dict)"
   ]
  },
  {
   "cell_type": "markdown",
   "id": "cubic-nelson",
   "metadata": {},
   "source": [
    "### 2. What is the value of a dictionary value with the key 'foo' and the value 42?\n",
    "\n",
    "#### Answer :\n",
    "\n",
    "- Dictonary is a key value pair which is written in curly brackets\n",
    "- Here Key is 'foo' and value is 42 \n",
    "- Therefor dictionary is look like :\n",
    "    \n",
    "        dit = { 'foo' : 42 } "
   ]
  },
  {
   "cell_type": "code",
   "execution_count": 5,
   "id": "vulnerable-understanding",
   "metadata": {},
   "outputs": [],
   "source": [
    "dit = { 'foo' : 42 } "
   ]
  },
  {
   "cell_type": "code",
   "execution_count": 6,
   "id": "signal-occasions",
   "metadata": {},
   "outputs": [
    {
     "name": "stdout",
     "output_type": "stream",
     "text": [
      "{'foo': 42} is having <class 'dict'> type \n"
     ]
    }
   ],
   "source": [
    "print(\"{} is having {} type \".format(dit,type(dit)))"
   ]
  },
  {
   "cell_type": "markdown",
   "id": "critical-refund",
   "metadata": {},
   "source": [
    "### 3. What is the most significant distinction between a dictionary and a list?\n",
    "\n",
    "#### Answer :\n",
    "\n",
    "- Dictionary is a key value pair which is written is {} and list does't contain such pair and it is written in [].\n",
    "- Key in Dictionary is unique and value can contain any thing such as int,str,lst,etc \n",
    "- List is collection os ordered data but dictionary does't follow order"
   ]
  },
  {
   "cell_type": "markdown",
   "id": "north-standing",
   "metadata": {},
   "source": [
    "### 4. What happens if you try to access spam['foo'] if spam is {'bar': 100}?\n",
    "\n",
    "#### Answer :\n",
    "\n",
    "- We have a dictionary spam = {'bar':100}\n",
    "- And want to accese spam['foo']\n",
    "- As we seen there is no such key are present in gievn dictionary so we get an keyerror."
   ]
  },
  {
   "cell_type": "code",
   "execution_count": 8,
   "id": "gothic-samuel",
   "metadata": {},
   "outputs": [
    {
     "ename": "KeyError",
     "evalue": "'foo'",
     "output_type": "error",
     "traceback": [
      "\u001b[1;31m---------------------------------------------------------------------------\u001b[0m",
      "\u001b[1;31mKeyError\u001b[0m                                  Traceback (most recent call last)",
      "\u001b[1;32m<ipython-input-8-cea1cd791e68>\u001b[0m in \u001b[0;36m<module>\u001b[1;34m\u001b[0m\n\u001b[0;32m      1\u001b[0m \u001b[0mspam\u001b[0m \u001b[1;33m=\u001b[0m \u001b[1;33m{\u001b[0m\u001b[1;34m'bar'\u001b[0m\u001b[1;33m:\u001b[0m\u001b[1;36m100\u001b[0m\u001b[1;33m}\u001b[0m\u001b[1;33m\u001b[0m\u001b[1;33m\u001b[0m\u001b[0m\n\u001b[1;32m----> 2\u001b[1;33m \u001b[0mspam\u001b[0m\u001b[1;33m[\u001b[0m\u001b[1;34m'foo'\u001b[0m\u001b[1;33m]\u001b[0m\u001b[1;33m\u001b[0m\u001b[1;33m\u001b[0m\u001b[0m\n\u001b[0m",
      "\u001b[1;31mKeyError\u001b[0m: 'foo'"
     ]
    }
   ],
   "source": [
    "spam = {'bar':100}\n",
    "spam['foo']"
   ]
  },
  {
   "cell_type": "markdown",
   "id": "marine-officer",
   "metadata": {},
   "source": [
    "### 5. If a dictionary is stored in spam, what is the difference between the expressions 'cat' in spam and 'cat' in spam.keys()?\n",
    "\n",
    "#### Answer :\n",
    "\n",
    "- 'Cat' in spam check that 'cat' key is present in dictionary or not and 'cat' in spam.key() also check that 'cat' key is present in dictionary or not.\n",
    "\n",
    "\n",
    "- So There is no difference between this two statement."
   ]
  },
  {
   "cell_type": "markdown",
   "id": "unsigned-scheme",
   "metadata": {},
   "source": [
    "### 6. If a dictionary is stored in spam, what is the difference between the expressions 'cat' in spam and 'cat' in spam.values()?"
   ]
  },
  {
   "cell_type": "markdown",
   "id": "immune-brother",
   "metadata": {},
   "source": [
    "- 'cat' in spam check 'cat' key present in the dictionary and 'cat' in spam.values() check a value 'cat' for one of the keys in spam.\n",
    "\n",
    "\n",
    "- This is difference between two statement"
   ]
  },
  {
   "cell_type": "markdown",
   "id": "caring-adjustment",
   "metadata": {},
   "source": [
    "### 7. What is a shortcut for the following code?\n",
    "\n",
    "if 'color' not in spam:\n",
    "\n",
    "spam['color'] = 'black'\n",
    "\n",
    "#### Answer :\n",
    "\n",
    "- serdefault() of dictionary is insert key with a value of default if key is not in the dictionary.\n",
    "\n",
    "    Eg:\n",
    "        spam.setdefault('color','black')"
   ]
  },
  {
   "cell_type": "code",
   "execution_count": 20,
   "id": "rising-death",
   "metadata": {},
   "outputs": [
    {
     "data": {
      "text/plain": [
       "{'bro': 123}"
      ]
     },
     "execution_count": 20,
     "metadata": {},
     "output_type": "execute_result"
    }
   ],
   "source": [
    "spam = {'bro' : 123}\n",
    "spam"
   ]
  },
  {
   "cell_type": "code",
   "execution_count": 21,
   "id": "mechanical-trailer",
   "metadata": {
    "scrolled": true
   },
   "outputs": [
    {
     "data": {
      "text/plain": [
       "'black'"
      ]
     },
     "execution_count": 21,
     "metadata": {},
     "output_type": "execute_result"
    }
   ],
   "source": [
    "#use setdefault(key,value)\n",
    "spam.setdefault('color','black')"
   ]
  },
  {
   "cell_type": "code",
   "execution_count": 22,
   "id": "chief-testament",
   "metadata": {},
   "outputs": [
    {
     "data": {
      "text/plain": [
       "{'bro': 123, 'color': 'black'}"
      ]
     },
     "execution_count": 22,
     "metadata": {},
     "output_type": "execute_result"
    }
   ],
   "source": [
    "# Dictionary after applying setdefault\n",
    "spam"
   ]
  },
  {
   "cell_type": "markdown",
   "id": "brown-cream",
   "metadata": {},
   "source": [
    "### 8. How do you \"pretty print\" dictionary values using which module and function?\n",
    "\n",
    "#### Answer : \n",
    "\n",
    "- pprint is a module we are using to perform \"Pretty print\"\n",
    "\n",
    "\n",
    "- pprint module having pprint function which is use to perform pretty print."
   ]
  },
  {
   "cell_type": "code",
   "execution_count": 26,
   "id": "entertaining-segment",
   "metadata": {},
   "outputs": [
    {
     "name": "stdout",
     "output_type": "stream",
     "text": [
      "{'bro': 123, 'color': 'black'}\n"
     ]
    }
   ],
   "source": [
    "#import pprint module\n",
    "import pprint\n",
    "\n",
    "#use pprint function from pprint module\n",
    "pprint.pprint(spam)"
   ]
  },
  {
   "cell_type": "markdown",
   "id": "changed-geneva",
   "metadata": {},
   "source": [
    "<h3 align='right'>\n",
    "    Thank you.....!"
   ]
  }
 ],
 "metadata": {
  "kernelspec": {
   "display_name": "Python 3",
   "language": "python",
   "name": "python3"
  },
  "language_info": {
   "codemirror_mode": {
    "name": "ipython",
    "version": 3
   },
   "file_extension": ".py",
   "mimetype": "text/x-python",
   "name": "python",
   "nbconvert_exporter": "python",
   "pygments_lexer": "ipython3",
   "version": "3.9.1"
  }
 },
 "nbformat": 4,
 "nbformat_minor": 5
}
