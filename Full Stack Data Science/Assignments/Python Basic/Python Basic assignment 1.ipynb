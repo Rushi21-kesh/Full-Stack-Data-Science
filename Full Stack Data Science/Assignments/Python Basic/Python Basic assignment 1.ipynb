{
 "cells": [
  {
   "cell_type": "markdown",
   "metadata": {},
   "source": [
    "![ineuron](https://d24cdstip7q8pz.cloudfront.net/t/ineuron1/content/common/images/final%20logo.png)\n",
    "\n",
    "<h1 align='center'>Python Basic Assignment 1</h1>"
   ]
  },
  {
   "cell_type": "markdown",
   "metadata": {},
   "source": [
    "### 1. What are the differences between operators and values in the following?\n",
    "    \n",
    "    *\n",
    "    \n",
    "    'hello'\n",
    "    \n",
    "    -87.8\n",
    "    \n",
    "    -\n",
    "    \n",
    "    /\n",
    "    \n",
    "    +\n",
    "    \n",
    "    6\n",
    "    \n",
    "    \n",
    "#### Answer \n",
    "- Operators is use to perform operation on values. There are different types of operators are available such as:\n",
    "\n",
    "    - Arithmetic Operators : +, - , *, /, %, etc which is used to perform arithmetic operations like addition, subtraction, multiplication and division. \n",
    "    - Comparison Operators :  == (equal to), !=(not equal to) ,<= (less than equal to),>= (greater than equal to)etc which is used to compare two values.\n",
    "    - Logical Operators : AND, OR, NOT are used on conditional statements such as True or False.\n",
    "    \n",
    "\n",
    "- Now, we take a look at given operator and values,\n",
    "\n",
    "\n",
    "    -\t*is a Arithmetic operator which is use for multiplication.\n",
    "                Ex: 4*5 = 20 , ‘R’*3=RRR  \n",
    "        \n",
    "    -     'hello' is a value of string data type\n",
    "    \n",
    "    - \t-87.8 is a negative value of floating data type\n",
    "    \n",
    "    - \t(-) is a Arithmetic operator which is use for subtraction\n",
    "                Ex: 8-5=3 , 5-2 = 3\n",
    "    \n",
    "    - \t/ i s a Arithmetic operator which is use for division and return floating quotient and ‘//’ return integer quotient.\n",
    "                Ex: 8/2 = 4.0 , 8//2 = 4\n",
    "\n",
    "    - \t+ it is also a Arithmetic operator which is use for addition and string concatenation\n",
    "                Ex: 4+5=9(Addition), ‘Data’+’Science’ = DataSciece(string concatenation)\n",
    "    \n",
    "    -\t6 is a value of integer data type\n",
    "\n",
    "\n",
    "- Let's execute some code and understand about operators and values"
   ]
  },
  {
   "cell_type": "code",
   "execution_count": 1,
   "metadata": {},
   "outputs": [
    {
     "name": "stdout",
     "output_type": "stream",
     "text": [
      "12\n",
      "DataDataDataDataData\n",
      "4.0\n",
      "3\n",
      "<class 'float'>\n",
      "True\n",
      "False\n"
     ]
    }
   ],
   "source": [
    "print(4 * 3) #expected output 12\n",
    "\n",
    "print('Data'*5) # DataDataDataDataData\n",
    "\n",
    "print(8/2) # 4.0\n",
    "\n",
    "print(10//3) # 3\n",
    "\n",
    "print(type(-87.8)) # float\n",
    "\n",
    "print(True and True) # True\n",
    "\n",
    "print(not True)  # False"
   ]
  },
  {
   "cell_type": "markdown",
   "metadata": {},
   "source": [
    "### 2. What is the difference between string and variable?\n",
    "spam\n",
    "\n",
    "'spam'\n",
    "\n",
    "#### Answer => \n",
    "\n",
    "- Character data type in other programming languages is name as String data type(str) in Python. \n",
    "- Character, number, equation, etc is written in single quotes or double quotes is always belongs to string and having string (str) data types. \n",
    "\n",
    "    Ex:\n",
    " \n",
    " \n",
    "    - ‘spam’=It is a collection of character and written in single quote therefor it is having String data type.\n",
    "    - ‘12345’ = 12345 is a integer data type but it written in single quote therefor it is having String data type.\n",
    "    - “True” = True is a boolean data type but it written in double quote therefor it is having String data type.\n",
    "\n",
    "\n",
    "\n",
    "- Variable is a name which is assigned to memory location to store value. There are some rules which we need to follow before creating any variable: \n",
    "\n",
    "\n",
    "    - Variable name always start with alphabet or underscore (_).\n",
    "\t- Default function name or Keyword are not used as a variable name.\n",
    "\t- Make sure your variable name is descriptive (for better understanding) \n",
    "\n",
    "    Ex:\n",
    "        - num = 10 , name = ‘Data’ , for = ‘error’\n",
    "\n",
    "- Here we created a variable such as num, name, for and assign some values. when we run it num and name run successfully  but for is through an error because we used for as a variable name you can change it or add add underscore before variable name . \n",
    "_for = ‘error’\n"
   ]
  },
  {
   "cell_type": "code",
   "execution_count": 2,
   "metadata": {},
   "outputs": [
    {
     "name": "stdout",
     "output_type": "stream",
     "text": [
      "This is string\n",
      "1234 & True it is also string\n",
      "This is string which is assign to variable var\n"
     ]
    }
   ],
   "source": [
    "# Example of String\n",
    "\n",
    "print(\"This is string\")\n",
    "print('1234 & True it is also string')\n",
    "\n",
    "#Example of Variable\n",
    "\n",
    "var = 'This is string which is assign to variable var' # here 'This is string' is a string which is assigned to variable 'var'\n",
    "print(var)"
   ]
  },
  {
   "cell_type": "markdown",
   "metadata": {},
   "source": [
    "### 3. Describe three different data forms.\n",
    "\n",
    "#### Answer =>\n",
    "\n",
    "    Before going to understand data types we need to know what is variables. Variable is a reserved memory location which is used to store values. It meand it take some space in the memory. How much memory required to store specific variable is depend on data type of that variable. In python declaration happen automatically when we assign value to variable.\n",
    "\n",
    "There are some standard data types :\n",
    "   - characters \n",
    "        - str : It only which is belogns to characters, Anything whcih is written in single or double quotes are consider as a string data type. We are able to perform slicing on string using '[]'. Str() function is use to convert valus to str type.\n",
    "            Ex: 'Data' , \"Science\"\n",
    " \n",
    " \n",
    "   - Number :\n",
    "        - int : It stored integer values,integer is a whole number it may be positive or negative. int() function is used to convert values in int type. In python, integers are represented as long intergers.\n",
    "                Ex : 4244 , -2142 \n",
    "        \n",
    "        - float : It store floating values,float is used to represent real number and is having decimal point. float() function is used to convert values to floating type.\n",
    "                Ex : 5.34 , 3.2+e12\n",
    "                \n",
    "        - Complex : It is a pair of real and imaginary values, x + yj here x , y are real number and j is a imaginary unit. while declearning complex number make sure you only use 'j' as imaginary unit. complex() function is use to convert values to complex type.\n",
    "                Ex : 4 + 5j , 4.32 - 0.233j\n",
    "                \n",
    "                \n",
    "   - Boolen : \n",
    "       - bool : It hold only two built in values one is True and other one is Flase. It is mainly focus on logic. While denoting  True or Flase make sure 'T' and 'F' must be capital else it throw an error.\n",
    "               Ex : True , False"
   ]
  },
  {
   "cell_type": "code",
   "execution_count": 3,
   "metadata": {},
   "outputs": [
    {
     "name": "stdout",
     "output_type": "stream",
     "text": [
      "- Character data type :: \n",
      "\n",
      "Full Stack Data Science it is of <class 'str'> data type\n",
      " Stack\n",
      "e\n",
      "Fl tc aaSine\n",
      "Type of 1224\n",
      "before using str functin is : <class 'int'>  |  after using str functin is : <class 'str'>\n",
      "\n",
      " ****************** \n",
      "\n",
      "- Integer Data types\n",
      "\n",
      "-116964\n",
      "0\n",
      "Type of 21.223 Before applying int() : <class 'float'> After applying int() <class 'int'>\n",
      "\n",
      " ****************** \n",
      "\n",
      "- Floating Data types\n",
      "\n",
      "12.765957446808509\n",
      "12.0\n",
      "Type of 2132242 Before applying int() : <class 'int'> After applying int() <class 'float'>\n",
      "\n",
      " ****************** \n",
      "\n",
      "- Complex Data types\n",
      "\n",
      "(4.23+0j)\n",
      "(4.23+54j)\n"
     ]
    }
   ],
   "source": [
    "#Character data type\n",
    "\n",
    "print(\"- Character data type :: \\n\")\n",
    "a = 'Full Stack Data Science'\n",
    "print(\"{} it is of {} data type\".format(a,type(a))) #print variable a and find type\n",
    "print(a[4:10])  # access char from index 4-10\n",
    "print(a[-1]) # access last char\n",
    "print(a[::2]) # access char with step 2\n",
    "num = 1224 \n",
    "print('Type of {}\\nbefore using str functin is : {}  |  after using str functin is : {}'.format(num,type(num),type(str(num))))\n",
    "print('\\n ****************** \\n')\n",
    "\n",
    "\n",
    "\n",
    "#integer Data types\n",
    "\n",
    "print(\"- Integer Data types\\n\")\n",
    "a = 342\n",
    "b = -342\n",
    "print(a *  b) #perform multiplication\n",
    "print(a + b) #perform addition\n",
    "num = 21.223\n",
    "print('Type of {} Before applying int() : {} After applying int() {}'.format(num,type(num),type(int(num))))\n",
    "print('\\n ****************** \\n')\n",
    "\n",
    "#floatinf data types\n",
    "\n",
    "print(\"- Floating Data types\\n\")\n",
    "a = 4.23\n",
    "b = 54\n",
    "print(b / a) #perform division and get float\n",
    "print(b // a) #perform division and get int\n",
    "num = 2132242\n",
    "print('Type of {} Before applying int() : {} After applying int() {}'.format(num,type(num),type(float(num))))\n",
    "print('\\n ****************** \\n')\n",
    "\n",
    "\n",
    "\n",
    "\n",
    "#complex data types\n",
    "\n",
    "print(\"- Complex Data types\\n\")\n",
    "a = 4.23\n",
    "b = 54\n",
    "print(complex(a))  # conver int/float to complex\n",
    "# when we pass single arg it consider as a real number X and y set to 0 \n",
    "print(complex(a,b))\n",
    "# when we pass two argg then first is X and second is to y"
   ]
  },
  {
   "cell_type": "markdown",
   "metadata": {},
   "source": [
    "### 4. What is an expression made up of? What do all expressions do?\n",
    "\n",
    "#### Answer =>\n",
    "\n",
    "- Expression is anything that has a values such as number, string, etc.\n",
    "- Expression can contain operator such as +, -, etc.\n",
    "- We can say that exptession is made up of any values such as number, string , etc as well as it contain operator to perform operation on values and gives output as single value.\n",
    "- for creating any expressions we need to have two values and one operator which gives a result in the form of single value.\n",
    "\n",
    "         Eg:\n",
    "             - 1 + 4 \n",
    "             - 'Data'*3\n",
    "          \n",
    "- Expression is able to do operation on values and produce a single output"
   ]
  },
  {
   "cell_type": "code",
   "execution_count": 4,
   "metadata": {},
   "outputs": [
    {
     "data": {
      "text/plain": [
       "5"
      ]
     },
     "execution_count": 4,
     "metadata": {},
     "output_type": "execute_result"
    }
   ],
   "source": [
    "1 + 4"
   ]
  },
  {
   "cell_type": "code",
   "execution_count": 5,
   "metadata": {},
   "outputs": [
    {
     "data": {
      "text/plain": [
       "'DataDataData'"
      ]
     },
     "execution_count": 5,
     "metadata": {},
     "output_type": "execute_result"
    }
   ],
   "source": [
    "'Data' * 3"
   ]
  },
  {
   "cell_type": "code",
   "execution_count": 6,
   "metadata": {},
   "outputs": [
    {
     "data": {
      "text/plain": [
       "2"
      ]
     },
     "execution_count": 6,
     "metadata": {},
     "output_type": "execute_result"
    }
   ],
   "source": [
    "True + True"
   ]
  },
  {
   "cell_type": "code",
   "execution_count": 7,
   "metadata": {},
   "outputs": [
    {
     "data": {
      "text/plain": [
       "True"
      ]
     },
     "execution_count": 7,
     "metadata": {},
     "output_type": "execute_result"
    }
   ],
   "source": [
    "False or True"
   ]
  },
  {
   "cell_type": "markdown",
   "metadata": {},
   "source": [
    "### 5. In this chapter introduced assignment statements, like spam = 10. What's the difference between an expression and a statement?\n",
    "\n",
    "#### Answer =>\n",
    "\n",
    "- Expression is a made up of any values such as number, string , etc as well as it contain operator to perform operation on values and gives output as single value.\n",
    "        \n",
    "- Statement is made up of one or more expressions and it represent an action or command.\n",
    "    \n",
    "             ex :\n",
    "                x = 5       # it is statement\n",
    "                1 + x       # it is expression\n",
    "                y = 6 + x   # it is statement"
   ]
  },
  {
   "cell_type": "code",
   "execution_count": 8,
   "metadata": {},
   "outputs": [],
   "source": [
    "x = 5"
   ]
  },
  {
   "cell_type": "code",
   "execution_count": 9,
   "metadata": {},
   "outputs": [
    {
     "data": {
      "text/plain": [
       "6"
      ]
     },
     "execution_count": 9,
     "metadata": {},
     "output_type": "execute_result"
    }
   ],
   "source": [
    "1 + x"
   ]
  },
  {
   "cell_type": "code",
   "execution_count": 10,
   "metadata": {},
   "outputs": [],
   "source": [
    "y = 6  + x"
   ]
  },
  {
   "cell_type": "code",
   "execution_count": 11,
   "metadata": {},
   "outputs": [
    {
     "name": "stdout",
     "output_type": "stream",
     "text": [
      "11\n"
     ]
    }
   ],
   "source": [
    "print(y) # it is also a statement"
   ]
  },
  {
   "cell_type": "markdown",
   "metadata": {},
   "source": [
    "### 6. After running the following code, what does the variable bacon contain?\n",
    "bacon = 22\n",
    "\n",
    "bacon + 1\n",
    "\n",
    "#### Answer => \n",
    "\n",
    "- In this code first we assign a values 22 to the variable bacon, \n",
    "- Then we add 1 to the bacon which hold a values 22,\n",
    "- But we can’t assign this updated value to the bacon variable so bacon contain 22.\n"
   ]
  },
  {
   "cell_type": "code",
   "execution_count": 12,
   "metadata": {},
   "outputs": [
    {
     "name": "stdout",
     "output_type": "stream",
     "text": [
      "22\n"
     ]
    }
   ],
   "source": [
    "bacon = 22 #assign a values 22 to the variable bacon\n",
    "bacon +1 #add 1 to the bacon which hold a values 22\n",
    "print(bacon) #But we can’t assign this updated value to the bacon variable so bacon contain 22."
   ]
  },
  {
   "cell_type": "markdown",
   "metadata": {},
   "source": [
    "### 7. What should the values of the following two terms be?\n",
    "'spam' + 'spamspam'\n",
    "\n",
    "'spam' * 3\n",
    "\n",
    "#### Answer = >\n",
    "\n",
    "- In 1st terms we are performing concatenation operation with two strings one is 'spam' and other is 'spamspam' after performing a concatenation we get an answer : spamspamspam\n",
    "\n",
    "- In 2nd terms we are performing arithmetic operation with 'spam' here we are perform multiplication 3 times on ‘spam’ and get an same answer : spamspamspam\n"
   ]
  },
  {
   "cell_type": "code",
   "execution_count": 13,
   "metadata": {},
   "outputs": [
    {
     "name": "stdout",
     "output_type": "stream",
     "text": [
      "spamspamspam\n",
      "spamspamspam\n"
     ]
    }
   ],
   "source": [
    "# 1st term\n",
    "print('spam' + 'spamspam')     # performing a concatenation we get an answer : spamspamspam\n",
    "\n",
    "#2nd term\n",
    "print('spam' * 3)      #perform multiplication 3 times on ‘spam’ and get an same answer : spamspamspam"
   ]
  },
  {
   "cell_type": "markdown",
   "metadata": {},
   "source": [
    "### 8. Why is it that eggs is a true variable name but 100 is not?\n",
    "\n",
    "#### Answer=>\n",
    "While creating a new variable we need to follow some rules: \n",
    "    \n",
    "    1.\tVariable name always start with alphabet or underscore (_).\n",
    "    2.\tDefault function name or Keyword are not used as a variable name.\n",
    "    3.\tMake sure your variable name is descriptive (for better understanding) \n",
    "\n",
    "Here, eggs is start with alphabet  and eggs is not a keyword or function in python therefor it is true variable name but 100 is start from number it’s breaked rule so it is not a true variable."
   ]
  },
  {
   "cell_type": "code",
   "execution_count": 14,
   "metadata": {},
   "outputs": [],
   "source": [
    "eggs = 'valid variable'\n",
    "\n",
    "# 100 = 'invalid variable' \n",
    "# you can write \n",
    "\n",
    "_100 = 'valid variable'"
   ]
  },
  {
   "cell_type": "markdown",
   "metadata": {},
   "source": [
    "### 9. Which of the following three functions may be used to convert a value to an integer, a floating-point number, or a string?\n",
    "\n",
    "\n",
    "#### Answer =>\n",
    "\n",
    "- Python provided a function which helps to convert a value to an integer, a floating-point number, or a string. \n",
    "    \n",
    "    - For integer : \n",
    "        \n",
    "        int(values/variable) function is use for converting any number to integer.\n",
    "            Ex: \tint(4.30) = 4\n",
    "    - For floating :\n",
    "    \n",
    "        Float(values/variable) function is use for converting any number to float.\n",
    "            Ex: \ta = 3\n",
    "                    float(a)= 3.0 \n",
    "    - For String:\n",
    "        \n",
    "         Str(values/variable) function is used to convert any number, boolean, etc to string.\n",
    "            Ex:\t     str(2002) = 2002(dtype is str)"
   ]
  },
  {
   "cell_type": "code",
   "execution_count": 15,
   "metadata": {},
   "outputs": [
    {
     "name": "stdout",
     "output_type": "stream",
     "text": [
      "Example to Convert a values to an integer : \n",
      "3 <class 'int'>\n",
      "4 <class 'int'>\n",
      "\n",
      "Example to Convert a values to an float : \n",
      "3.0 <class 'float'>\n",
      "4.0 <class 'float'>\n",
      "\n",
      "Example to Convert a values to an integer : \n",
      "43.2 <class 'str'>\n",
      "True\n",
      "Data type of True is Boolean but here we convert it into str : <class 'str'>\n"
     ]
    }
   ],
   "source": [
    "#Convert a values to an integer\n",
    "print('Example to Convert a values to an integer : ')\n",
    "print(int(3.432),type(int(3.432)))\n",
    "a = 4.14\n",
    "print(int(a),type(int(a)))\n",
    "\n",
    "#Convert a values to an float\n",
    "print('\\nExample to Convert a values to an float : ')\n",
    "print(float(3),type(float(3)))\n",
    "a = 4\n",
    "print(float(a),type(float(a)))\n",
    "\n",
    "\n",
    "#Convert a values to an string\n",
    "print('\\nExample to Convert a values to an integer : ')\n",
    "print(str(43.2),type(str(43.2)))\n",
    "a = True\n",
    "print(str(a))\n",
    "\n",
    "print(\"Data type of True is Boolean but here we convert it into str : {}\".format(type(str(a))))"
   ]
  },
  {
   "cell_type": "markdown",
   "metadata": {},
   "source": [
    "### 10. What is the error caused by this expression? What would you do about it?\n",
    "'I have eaten ' + 99 + ' burritos.'\n",
    "\n",
    "#### Answer =>\n",
    "\n",
    "In above code we are trying to concat string data type values with integer data type values but it is not possible to perform it in this way.\n",
    "\n",
    "- Numbers is always be added using '+' operator and string always be concatenating using '+' operator.\n",
    "\n",
    "- It is not possible to do both at same time or not possible to perform number + string directly. \n",
    "\n",
    "- For performing addition/ concatenation of string and number we need to convert number to string using string(str()) function or writing number in single quote('_') or double quotes(\"_\").\n",
    "\n",
    "\n",
    "    - Solutions : \n",
    "        1.\t'I have eaten ' + str(99) + ' burritos.'\n",
    "        2.\t'I have eaten ' + ‘99’ + ' burritos.’\n"
   ]
  },
  {
   "cell_type": "code",
   "execution_count": 16,
   "metadata": {},
   "outputs": [
    {
     "ename": "TypeError",
     "evalue": "can only concatenate str (not \"int\") to str",
     "output_type": "error",
     "traceback": [
      "\u001b[1;31m---------------------------------------------------------------------------\u001b[0m",
      "\u001b[1;31mTypeError\u001b[0m                                 Traceback (most recent call last)",
      "\u001b[1;32m<ipython-input-16-008a44ca1b55>\u001b[0m in \u001b[0;36m<module>\u001b[1;34m\u001b[0m\n\u001b[1;32m----> 1\u001b[1;33m \u001b[0mprint\u001b[0m\u001b[1;33m(\u001b[0m\u001b[1;34m'I have eaten '\u001b[0m \u001b[1;33m+\u001b[0m \u001b[1;36m99\u001b[0m \u001b[1;33m+\u001b[0m \u001b[1;34m' burritos.'\u001b[0m\u001b[1;33m)\u001b[0m\u001b[1;33m\u001b[0m\u001b[1;33m\u001b[0m\u001b[0m\n\u001b[0m",
      "\u001b[1;31mTypeError\u001b[0m: can only concatenate str (not \"int\") to str"
     ]
    }
   ],
   "source": [
    "print('I have eaten ' + 99 + ' burritos.')"
   ]
  },
  {
   "cell_type": "code",
   "execution_count": 17,
   "metadata": {},
   "outputs": [
    {
     "name": "stdout",
     "output_type": "stream",
     "text": [
      "I have eaten 99 burritos.\n",
      "\n",
      "I have eaten 99 burritos.\n"
     ]
    }
   ],
   "source": [
    "#solution\n",
    "\n",
    "print('I have eaten ' + str(99) + ' burritos.')\n",
    "print('\\nI have eaten ' + '99' + ' burritos.')"
   ]
  },
  {
   "cell_type": "markdown",
   "metadata": {},
   "source": [
    "<h1 align='right'>Thank You!"
   ]
  }
 ],
 "metadata": {
  "kernelspec": {
   "display_name": "Python 3",
   "language": "python",
   "name": "python3"
  },
  "language_info": {
   "codemirror_mode": {
    "name": "ipython",
    "version": 3
   },
   "file_extension": ".py",
   "mimetype": "text/x-python",
   "name": "python",
   "nbconvert_exporter": "python",
   "pygments_lexer": "ipython3",
   "version": "3.8.5"
  }
 },
 "nbformat": 4,
 "nbformat_minor": 4
}
