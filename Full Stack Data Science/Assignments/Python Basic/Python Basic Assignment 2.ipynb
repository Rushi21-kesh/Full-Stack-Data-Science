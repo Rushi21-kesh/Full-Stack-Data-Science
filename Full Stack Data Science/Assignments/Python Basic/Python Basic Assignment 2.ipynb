{
 "cells": [
  {
   "cell_type": "markdown",
   "metadata": {},
   "source": [
    "![ineuron](https://d24cdstip7q8pz.cloudfront.net/t/ineuron1/content/common/images/final%20logo.png)\n",
    "\n",
    "<h1 align='center'>Python Basic Assignment 2</h1>"
   ]
  },
  {
   "cell_type": "markdown",
   "metadata": {},
   "source": [
    "### 1.What are the two values of the Boolean data type? How do you write them?"
   ]
  },
  {
   "cell_type": "markdown",
   "metadata": {},
   "source": [
    "#### Answer =>\n",
    "- True and False these are the values of the Boolean data type.\n",
    "- Where as True is equal to 1 and Flase is equal to 0.\n",
    "- It is declared using bool keyword.\n",
    "- It always returns boolean values(True or Flase) if you perform a comparison operation.\n",
    "- Make sure first latter of True i.e 'T' and Flase i.e 'F' must be capital\n",
    "- True  / False\n",
    "\n",
    "        - Eg :\n",
    "        \n",
    "                 - True and False => False\n",
    "                 - 4 >= 3 => True\n",
    "                 - l = [1,2,3]\n",
    "                    3 in l => True"
   ]
  },
  {
   "cell_type": "code",
   "execution_count": 1,
   "metadata": {},
   "outputs": [
    {
     "data": {
      "text/plain": [
       "False"
      ]
     },
     "execution_count": 1,
     "metadata": {},
     "output_type": "execute_result"
    }
   ],
   "source": [
    "True and False"
   ]
  },
  {
   "cell_type": "code",
   "execution_count": 2,
   "metadata": {},
   "outputs": [
    {
     "data": {
      "text/plain": [
       "True"
      ]
     },
     "execution_count": 2,
     "metadata": {},
     "output_type": "execute_result"
    }
   ],
   "source": [
    "4>=3"
   ]
  },
  {
   "cell_type": "code",
   "execution_count": 3,
   "metadata": {},
   "outputs": [
    {
     "data": {
      "text/plain": [
       "True"
      ]
     },
     "execution_count": 3,
     "metadata": {},
     "output_type": "execute_result"
    }
   ],
   "source": [
    "l = [1,2,3]\n",
    "3 in l"
   ]
  },
  {
   "cell_type": "code",
   "execution_count": 4,
   "metadata": {},
   "outputs": [
    {
     "data": {
      "text/plain": [
       "True"
      ]
     },
     "execution_count": 4,
     "metadata": {},
     "output_type": "execute_result"
    }
   ],
   "source": [
    "(True or (False and (not True))) or False"
   ]
  },
  {
   "cell_type": "markdown",
   "metadata": {},
   "source": [
    "### 2. What are the three different types of Boolean operators?"
   ]
  },
  {
   "cell_type": "markdown",
   "metadata": {},
   "source": [
    "#### Answer :\n",
    "- AND, OR and NOT these are the three Boolean operators.\n",
    "\n",
    "- #### AND : \n",
    "    It return True if both result is True or found else return False\n",
    "            - False and True => False\n",
    "            - True and True => True\n",
    "- #### OR : \n",
    "    It return True if any one result is True or found else return False\n",
    "            - False or True => True\n",
    "            - True or True => True\n",
    "- #### NOT : \n",
    "    It use to perform inverse operation on boolean data type\n",
    "            - not(True) = > False\n",
    "            - not(True and False) => not(False) => True"
   ]
  },
  {
   "cell_type": "code",
   "execution_count": 5,
   "metadata": {},
   "outputs": [
    {
     "name": "stdout",
     "output_type": "stream",
     "text": [
      "Eg: and\n",
      "False\n",
      "True\n",
      "\n",
      "Eg: or\n",
      "True\n",
      "True\n",
      "\n",
      "Eg: not\n",
      "False\n",
      "True\n"
     ]
    }
   ],
   "source": [
    "# AND\n",
    "print('Eg: and')\n",
    "print(False and True)\n",
    "print(True and True)\n",
    "#OR\n",
    "print('\\nEg: or')\n",
    "print(False or True)\n",
    "print(True or True)\n",
    "#NOT\n",
    "print('\\nEg: not')\n",
    "print(not(True))\n",
    "print(not(True and False))"
   ]
  },
  {
   "cell_type": "markdown",
   "metadata": {},
   "source": [
    "### 3. Make a list of each Boolean operator's truth tables (i.e. every possible combination of Boolean values for the operator and what it evaluate )."
   ]
  },
  {
   "cell_type": "markdown",
   "metadata": {},
   "source": [
    "#### Answer : \n",
    "\n",
    "    - I have created this using 'paint'. \n",
    "    \n",
    "![](truth_table.png)"
   ]
  },
  {
   "cell_type": "markdown",
   "metadata": {},
   "source": [
    "### 4. What are the values of the following expressions?\n",
    "    1. (5 > 4) and (3 == 5)\n",
    "    2. not (5 > 4)\n",
    "    3. (5 > 4) or (3 == 5)\n",
    "    4. not ((5 > 4) or (3 == 5))\n",
    "    5. (True and True) and (True == False)\n",
    "    6. (not False) or (not True)\n"
   ]
  },
  {
   "cell_type": "markdown",
   "metadata": {},
   "source": [
    "### Answer : \n",
    "\n",
    "<h4> 1. (5 > 4) and (3 == 5)\n",
    "\n",
    "\n",
    "    Answer : \n",
    "             (5 > 4)    # 5 is  greater than 4 it returns 'True'\n",
    "             (3 ==5)    # 3 is equal to 5 it returns 'False'\n",
    "             Now, \n",
    "                True and Flase     # It returns False \n",
    "            \n",
    "         -> Flase "
   ]
  },
  {
   "cell_type": "code",
   "execution_count": 6,
   "metadata": {},
   "outputs": [
    {
     "name": "stdout",
     "output_type": "stream",
     "text": [
      "(5 > 4) and (3 == 5) ->  False\n"
     ]
    }
   ],
   "source": [
    "print(\"(5 > 4) and (3 == 5) -> \",(5 > 4) and (3 == 5))"
   ]
  },
  {
   "cell_type": "markdown",
   "metadata": {},
   "source": [
    "<h4> 2. not (5 > 4)\n",
    "    \n",
    "    Answer :\n",
    "            (5 > 4)    # 5 is  greater than 4 it returns 'True'\n",
    "            not(True)  # It return inverse of True i.e False\n",
    "         \n",
    "            -> False"
   ]
  },
  {
   "cell_type": "code",
   "execution_count": 7,
   "metadata": {},
   "outputs": [
    {
     "name": "stdout",
     "output_type": "stream",
     "text": [
      "not(5 > 4) ->  False\n"
     ]
    }
   ],
   "source": [
    "print(\"not(5 > 4) -> \",not(5 > 4))"
   ]
  },
  {
   "cell_type": "markdown",
   "metadata": {},
   "source": [
    "<h4> 3. (5 > 4) or (3 == 5)\n",
    "    \n",
    "    Answer:             \n",
    "             (5 > 4)    # 5 is  greater than 4 it returns 'True'\n",
    "             (3 ==5)    # 3 is equal to 5 it returns 'False'\n",
    "             Now, \n",
    "                True or Flase     # It returns True \n",
    "            \n",
    "         -> True"
   ]
  },
  {
   "cell_type": "code",
   "execution_count": 8,
   "metadata": {},
   "outputs": [
    {
     "name": "stdout",
     "output_type": "stream",
     "text": [
      "(5 > 4) or (3 == 5) ->  True\n"
     ]
    }
   ],
   "source": [
    "print(\"(5 > 4) or (3 == 5) -> \",(5 > 4) or (3 == 5))"
   ]
  },
  {
   "cell_type": "markdown",
   "metadata": {},
   "source": [
    "<h4> 4. not((5 > 4) or (3 == 5))\n",
    "    \n",
    "    Answer:             \n",
    "             (5 > 4)    # 5 is  greater than 4 it returns 'True'\n",
    "             (3 ==5)    # 3 is equal to 5 it returns 'False'\n",
    "             Now, \n",
    "                True or Flase     # It returns True \n",
    "                not(True)         # it return inverse of True i.e False\n",
    "            \n",
    "         -> False"
   ]
  },
  {
   "cell_type": "code",
   "execution_count": 9,
   "metadata": {},
   "outputs": [
    {
     "name": "stdout",
     "output_type": "stream",
     "text": [
      "not((5 > 4) or (3 == 5)) ->  False\n"
     ]
    }
   ],
   "source": [
    "print(\"not((5 > 4) or (3 == 5)) -> \",not((5 > 4) or (3 == 5)))"
   ]
  },
  {
   "cell_type": "markdown",
   "metadata": {},
   "source": [
    "<h4> 5. (True and True) and (True == False)\n",
    "    \n",
    "    Answer:\n",
    "             True and True  # Both terms are True so and returns True\n",
    "             True == False   # Check True is equal to False, it is not equal so it return False\n",
    "             now, \n",
    "                True and False  # Only one turm is true while performing and operation so it return False\n",
    "    \n",
    "        -> False"
   ]
  },
  {
   "cell_type": "code",
   "execution_count": 10,
   "metadata": {},
   "outputs": [
    {
     "name": "stdout",
     "output_type": "stream",
     "text": [
      "(True and True) and (True == False) ->  False\n"
     ]
    }
   ],
   "source": [
    "print(\"(True and True) and (True == False) -> \",(True and True) and (True == False))"
   ]
  },
  {
   "cell_type": "markdown",
   "metadata": {},
   "source": [
    "<h4> 6. (not False) or (not True)\n",
    "    \n",
    "    Answer:\n",
    "             not False  # it return inverse of False i.e True\n",
    "             not True   # it return inverse of True i.e False\n",
    "             now, \n",
    "                True or False  # One term is true so it return True\n",
    "        -> True"
   ]
  },
  {
   "cell_type": "code",
   "execution_count": 11,
   "metadata": {},
   "outputs": [
    {
     "name": "stdout",
     "output_type": "stream",
     "text": [
      "(not False) or (not True) ->  True\n"
     ]
    }
   ],
   "source": [
    "print(\"(not False) or (not True) -> \",((not False) or (not True)))"
   ]
  },
  {
   "cell_type": "markdown",
   "metadata": {},
   "source": [
    "### 5. What are the six comparison operators?"
   ]
  },
  {
   "cell_type": "markdown",
   "metadata": {},
   "source": [
    "#### Answer : \n",
    "- Comparison operators is used to compair two or more values and return True or Flase as a Output\n",
    "- Following are the comparison operators : \n",
    "    \n",
    "    1. == : Equal to\n",
    "    \n",
    "    2. '>:' Greater than\n",
    "    \n",
    "    3. '>=:' Greater than equal to\n",
    "    \n",
    "    4. < : less than\n",
    "    \n",
    "    5. < = less than equal to\n",
    "    \n",
    "    6. ! = not equal to\n",
    "\n",
    "- Eg :"
   ]
  },
  {
   "cell_type": "code",
   "execution_count": 12,
   "metadata": {},
   "outputs": [
    {
     "data": {
      "text/plain": [
       "False"
      ]
     },
     "execution_count": 12,
     "metadata": {},
     "output_type": "execute_result"
    }
   ],
   "source": [
    "# Equal to\n",
    "5 == 6\n",
    "# 5 is not equal to 6 therefore answer is False"
   ]
  },
  {
   "cell_type": "code",
   "execution_count": 13,
   "metadata": {},
   "outputs": [
    {
     "data": {
      "text/plain": [
       "True"
      ]
     },
     "execution_count": 13,
     "metadata": {},
     "output_type": "execute_result"
    }
   ],
   "source": [
    "# Greater than\n",
    "6 > 5\n",
    "# 6 is greater then 5 so answer is True"
   ]
  },
  {
   "cell_type": "code",
   "execution_count": 14,
   "metadata": {},
   "outputs": [
    {
     "data": {
      "text/plain": [
       "False"
      ]
     },
     "execution_count": 14,
     "metadata": {},
     "output_type": "execute_result"
    }
   ],
   "source": [
    "# Greater than equal to\n",
    "6 >= 7\n",
    "# 6 is not greater then or equal to 7 therefore answer is False"
   ]
  },
  {
   "cell_type": "code",
   "execution_count": 15,
   "metadata": {},
   "outputs": [
    {
     "data": {
      "text/plain": [
       "False"
      ]
     },
     "execution_count": 15,
     "metadata": {},
     "output_type": "execute_result"
    }
   ],
   "source": [
    "# less than\n",
    "6 < 5\n",
    "# 6 is not less than 5 so it return False"
   ]
  },
  {
   "cell_type": "code",
   "execution_count": 16,
   "metadata": {},
   "outputs": [
    {
     "data": {
      "text/plain": [
       "True"
      ]
     },
     "execution_count": 16,
     "metadata": {},
     "output_type": "execute_result"
    }
   ],
   "source": [
    "# less than equal to\n",
    "6 <= 7\n",
    "# 6 is less than 7 so it return True"
   ]
  },
  {
   "cell_type": "code",
   "execution_count": 17,
   "metadata": {},
   "outputs": [
    {
     "data": {
      "text/plain": [
       "True"
      ]
     },
     "execution_count": 17,
     "metadata": {},
     "output_type": "execute_result"
    }
   ],
   "source": [
    "# not equal to\n",
    "5 != 6\n",
    "# 5 is not equal to 6 therefore it return True"
   ]
  },
  {
   "cell_type": "markdown",
   "metadata": {},
   "source": [
    "### 6. How do you tell the difference between the equal to and assignment operators?Describe a condition and when you would use one."
   ]
  },
  {
   "cell_type": "markdown",
   "metadata": {},
   "source": [
    "#### Answer :    \n",
    "   - '=' is a assignment operators, we use assignment operators when we need/want to assign any type of value to the variable.\n",
    "   \n",
    "   \n",
    "        Eg : \n",
    "                If we have a value 1000 and we want to assign this 1000 to the valriable 'var' at that time we use assignment operator :\n",
    "                var = 1000\n",
    "                \n",
    "   - '==' is a equal to operator, we use when we want to check our two values are same or not and it return True or False as output.\n",
    "   \n",
    "       Eg : \n",
    "               If we have a first value 1000 and second is 1000 and 3rd 2000 and want to check first values is equal to seocnd or not and also check first is equal to third or not at that time we use equal to operator.\n",
    "               \n",
    "               1000(first) == 1000 (second) \n",
    "               Both are same, it return True as a output\n",
    "               \n",
    "               1000(first) == 2000(third)\n",
    "               Is is not same, it return  False as a output\n",
    "\n",
    "\n",
    "- #### Here, i assign a some values to variable and check this values are equal or not "
   ]
  },
  {
   "cell_type": "code",
   "execution_count": 18,
   "metadata": {},
   "outputs": [
    {
     "name": "stdout",
     "output_type": "stream",
     "text": [
      "Condition is True\n"
     ]
    }
   ],
   "source": [
    "# Use of assignment operator\n",
    "\n",
    "val1 = 1000 # assign 1000 value to the variable 'val1' using assignment operator(=)\n",
    "val2 = 1000 # assign 1000 value to the variable 'val2' using assignment operator(=)\n",
    "\n",
    "# use of equal to operator\n",
    "\n",
    "if val1 == val2: # check val1 and val2 are equal or not using equal to operator(==)\n",
    "    print(\"Condition is True\")\n",
    "else:\n",
    "    print(\"Condition is False\")"
   ]
  },
  {
   "cell_type": "markdown",
   "metadata": {},
   "source": [
    "### 7. Identify the three blocks in this code:\n",
    "\n",
    "    spam = 0\n",
    "    \n",
    "    if spam == 10:\n",
    "    \n",
    "    print('eggs')\n",
    "    \n",
    "    if spam > 5:\n",
    "    \n",
    "    print('bacon')\n",
    "    \n",
    "    else:\n",
    "    \n",
    "    print('ham')\n",
    "    \n",
    "    print('spam')\n",
    "    \n",
    "    print('spam')\n"
   ]
  },
  {
   "cell_type": "code",
   "execution_count": 19,
   "metadata": {},
   "outputs": [
    {
     "name": "stdout",
     "output_type": "stream",
     "text": [
      "ham\n",
      "spam\n",
      "spam\n"
     ]
    }
   ],
   "source": [
    "spam = 0    \n",
    "if spam == 10:\n",
    "    print('eggs')\n",
    "if spam > 5:\n",
    "    print('bacon')\n",
    "else: \n",
    "    print('ham')\n",
    "    print('spam')\n",
    "print('spam')"
   ]
  },
  {
   "cell_type": "markdown",
   "metadata": {},
   "source": [
    "### 8. Write code that prints Hello if 1 is stored in spam, prints Howdy if 2 is stored in spam, and prints Greetings! if anything else is stored in spam."
   ]
  },
  {
   "cell_type": "code",
   "execution_count": 20,
   "metadata": {},
   "outputs": [
    {
     "name": "stdout",
     "output_type": "stream",
     "text": [
      "Enter value : 2\n",
      "Howdy\n"
     ]
    }
   ],
   "source": [
    "#take in integer input from user \n",
    "spam = int(input(\"Enter value : \"))\n",
    "\n",
    "if spam == 1: #check spam is equal to 1 \n",
    "    print(\"Hello\") #if condition is True then print 'Hello'\n",
    "elif spam==2: # elif check spam is equal to 2\n",
    "    print(\"Howdy\") # if condition is True then print 'Howdy'\n",
    "else: # spam equal to anything except 1,2 then \n",
    "    print(\"Greetings!\") #print(\"Greetings!\")"
   ]
  },
  {
   "cell_type": "markdown",
   "metadata": {},
   "source": [
    "### 9.If your programme is stuck in an endless loop, what keys you’ll press?"
   ]
  },
  {
   "cell_type": "markdown",
   "metadata": {},
   "source": [
    "- #### Answer :\n",
    "    \n",
    "        We can use :\n",
    "            - Ctrl + z # it used to suspend process\n",
    "            - Ctrl + c # it used to abort the current task"
   ]
  },
  {
   "cell_type": "markdown",
   "metadata": {},
   "source": [
    "### 10. How can you tell the difference between break and continue?\n",
    "\n",
    "#### Answer : \n",
    "\n",
    "- When we used break it break a loop when break is execute and stop the execution of loop\n",
    "- When we used continue in a loop at that time is skip the execution and go to the next\n",
    "\n",
    "Eg :\n",
    "\n",
    "- Break : \n",
    "        If you want to print number from 1 to 10 and apply a break when number equal to 5 then it print only: 1 2 3 4 and stop execution.\n",
    "        \n",
    "- Continue :\n",
    "        If you used Continue insted to break it skip specific execution and move to the next. if we apply a continue when number equal to 5 then it print  : 1 2 3 4 6 7 8 9 10\n",
    "        \n",
    "- check using Progrm"
   ]
  },
  {
   "cell_type": "code",
   "execution_count": 21,
   "metadata": {},
   "outputs": [
    {
     "name": "stdout",
     "output_type": "stream",
     "text": [
      "1\n",
      "2\n",
      "3\n",
      "4\n"
     ]
    }
   ],
   "source": [
    "## Use of Break\n",
    "for i in range(1,10):\n",
    "    if i==5:\n",
    "        break\n",
    "    print(i)"
   ]
  },
  {
   "cell_type": "code",
   "execution_count": 22,
   "metadata": {},
   "outputs": [
    {
     "name": "stdout",
     "output_type": "stream",
     "text": [
      "1\n",
      "2\n",
      "3\n",
      "4\n",
      "6\n",
      "7\n",
      "8\n",
      "9\n"
     ]
    }
   ],
   "source": [
    "# use of continue\n",
    "for i in range(1,10):\n",
    "    if i==5:\n",
    "        continue\n",
    "    print(i)"
   ]
  },
  {
   "cell_type": "markdown",
   "metadata": {},
   "source": [
    "### 11. In a for loop, what is the difference between range(10), range(0, 10), and range(0, 10, 1)?"
   ]
  },
  {
   "cell_type": "markdown",
   "metadata": {},
   "source": [
    "- **No**, there is no logical difference between  range(10), range(0, 10), and range(0, 10, 1) there is a small syntax difference. Range function required three parameter (start,end,step).\n",
    "\n",
    "- lets take a look at each :\n",
    "\n",
    "- **range(10) : ** \n",
    "           Here, one parameter is given. When one parameter is given is consider as end and start set to '0' and step size is set to '1' default.\n",
    "           \n",
    "\n",
    "- **range(0,10) : ** \n",
    "           Here, Two parameter is given. When Two parameter is given first is consider as start and second as end step size is set to '1' default.\n",
    "           \n",
    "- **range(0,10,1) : ** \n",
    "           Here, Three parameter is given. When three parameter is given first is consider as start , second is end and third is step size.\n",
    "           \n",
    "- IN there all there is return same output because syntax is different but logic is same\n",
    "- It always start from start and end with end-1"
   ]
  },
  {
   "cell_type": "code",
   "execution_count": 23,
   "metadata": {},
   "outputs": [
    {
     "name": "stdout",
     "output_type": "stream",
     "text": [
      "0 1 2 3 4 5 6 7 8 9 "
     ]
    }
   ],
   "source": [
    "for i in range(10):\n",
    "    print(i,end=' ')"
   ]
  },
  {
   "cell_type": "code",
   "execution_count": 24,
   "metadata": {},
   "outputs": [
    {
     "name": "stdout",
     "output_type": "stream",
     "text": [
      "0 1 2 3 4 5 6 7 8 9 "
     ]
    }
   ],
   "source": [
    "for i in range(0,10):\n",
    "    print(i,end=' ')"
   ]
  },
  {
   "cell_type": "code",
   "execution_count": 25,
   "metadata": {},
   "outputs": [
    {
     "name": "stdout",
     "output_type": "stream",
     "text": [
      "0 1 2 3 4 5 6 7 8 9 "
     ]
    }
   ],
   "source": [
    "for i in range(0,10,1):\n",
    "    print(i,end=' ')"
   ]
  },
  {
   "cell_type": "markdown",
   "metadata": {},
   "source": [
    "### 12. Write a short program that prints the numbers 1 to 10 using a for loop. Then write an equivalent program that prints the numbers 1 to 10 using a while loop."
   ]
  },
  {
   "cell_type": "markdown",
   "metadata": {},
   "source": [
    "#### Program using for loop :"
   ]
  },
  {
   "cell_type": "code",
   "execution_count": 26,
   "metadata": {},
   "outputs": [
    {
     "name": "stdout",
     "output_type": "stream",
     "text": [
      "1 2 3 4 5 6 7 8 9 10 "
     ]
    }
   ],
   "source": [
    "for i in range(1,11):\n",
    "    print(i,end=' ')"
   ]
  },
  {
   "cell_type": "markdown",
   "metadata": {},
   "source": [
    "#### Program using while loop :"
   ]
  },
  {
   "cell_type": "code",
   "execution_count": 27,
   "metadata": {},
   "outputs": [
    {
     "name": "stdout",
     "output_type": "stream",
     "text": [
      "1 2 3 4 5 6 7 8 9 10 "
     ]
    }
   ],
   "source": [
    "i = 1\n",
    "while i <= 10:\n",
    "    print(i,end=' ')\n",
    "    i += 1"
   ]
  },
  {
   "cell_type": "markdown",
   "metadata": {},
   "source": [
    "### 13. If you had a function named bacon() inside a module named spam, how would you call it after importing spam?\n"
   ]
  },
  {
   "cell_type": "markdown",
   "metadata": {},
   "source": [
    "#### Answer :\n",
    "\n",
    "- First we can import spam module using import keyword\n",
    "        \n",
    "        import spam\n",
    "        \n",
    "- When module is imported then, you can call function inside module using dot (.) operator."
   ]
  },
  {
   "cell_type": "markdown",
   "metadata": {},
   "source": [
    "<h3 align='right'>Thank you!"
   ]
  }
 ],
 "metadata": {
  "kernelspec": {
   "display_name": "Python 3",
   "language": "python",
   "name": "python3"
  },
  "language_info": {
   "codemirror_mode": {
    "name": "ipython",
    "version": 3
   },
   "file_extension": ".py",
   "mimetype": "text/x-python",
   "name": "python",
   "nbconvert_exporter": "python",
   "pygments_lexer": "ipython3",
   "version": "3.8.5"
  }
 },
 "nbformat": 4,
 "nbformat_minor": 4
}
