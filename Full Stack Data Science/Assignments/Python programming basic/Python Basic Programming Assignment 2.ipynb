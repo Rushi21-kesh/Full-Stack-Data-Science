{
 "cells": [
  {
   "cell_type": "markdown",
   "metadata": {},
   "source": [
    "<h1 align='center'> Python Basic Programming Assignment 2"
   ]
  },
  {
   "cell_type": "markdown",
   "metadata": {},
   "source": [
    "### 1. Write a Python program to convert kilometers to miles?\n",
    "\n",
    "\n",
    "- Formula says that 1km = 0.621miles"
   ]
  },
  {
   "cell_type": "code",
   "execution_count": 2,
   "metadata": {},
   "outputs": [
    {
     "name": "stdout",
     "output_type": "stream",
     "text": [
      "Enter the kilometers :5\n",
      "5.0 Km is 3.105 miles\n"
     ]
    }
   ],
   "source": [
    "#take input in km\n",
    "km = float(input(\"Enter the kilometers :\"))\n",
    "\n",
    "#calculate km to miles\n",
    "miles = km*(0.621)\n",
    "\n",
    "#pritn result\n",
    "print(\"{} Km is {} miles\".format(km,miles))"
   ]
  },
  {
   "cell_type": "markdown",
   "metadata": {},
   "source": [
    "###   2. Write a Python program to convert Celsius to Fahrenheit?\n",
    "\n",
    "- Formula for converting celsius to fahrenheit is :\n",
    "   \n",
    "   - F = (C*1.8)+32\n",
    "   \n",
    "           - C = Celsius\n",
    "           - F = Fahrenheit"
   ]
  },
  {
   "cell_type": "code",
   "execution_count": 5,
   "metadata": {},
   "outputs": [
    {
     "name": "stdout",
     "output_type": "stream",
     "text": [
      "Enter the value in Celsius : 5\n",
      "5.0 Celsius is equal to 41.0 Fahrenheit\n"
     ]
    }
   ],
   "source": [
    "#take input in Celsius\n",
    "C = float(input(\"Enter the value in Celsius : \"))\n",
    "\n",
    "#Convert celsius to fahrenheit\n",
    "F = (C*1.8)+32\n",
    "\n",
    "#print result\n",
    "print(\"{} Celsius is equal to {} Fahrenheit\".format(C,F))"
   ]
  },
  {
   "cell_type": "markdown",
   "metadata": {},
   "source": [
    "###  3. Write a Python program to display calendar?"
   ]
  },
  {
   "cell_type": "code",
   "execution_count": 4,
   "metadata": {},
   "outputs": [
    {
     "name": "stdout",
     "output_type": "stream",
     "text": [
      "Enter the year : 2021\n",
      "Enter the month : 4\n",
      "     April 2021\n",
      "Mo Tu We Th Fr Sa Su\n",
      "          1  2  3  4\n",
      " 5  6  7  8  9 10 11\n",
      "12 13 14 15 16 17 18\n",
      "19 20 21 22 23 24 25\n",
      "26 27 28 29 30\n",
      "\n"
     ]
    }
   ],
   "source": [
    "#import calendar module\n",
    "import calendar\n",
    "\n",
    "#take year and month as input\n",
    "yr = int(input(\"Enter the year : \"))\n",
    "mo = int(input(\"Enter the month : \"))\n",
    "\n",
    "#condition of checking month which is entered by user is greater than 0 or less than equal to 12\n",
    "if mo <= 12 and mo > 0:\n",
    "    print(calendar.month(yr,mo))#if conditionn is true print calendar\n",
    "else:\n",
    "    print(\"Month must be between 1 to 12\")#else print suggestion"
   ]
  },
  {
   "cell_type": "markdown",
   "metadata": {},
   "source": [
    "###   4. Write a Python program to solve quadratic equation?\n",
    "\n",
    "    - quadratic equation  =>     ax**2 + bx + c = 0\n",
    "            - Where , a,d,c is real number and a > 0\n",
    "\n",
    "    - Solution of quadratic equation are =>\n",
    "\n",
    "                    -  -b+(((b**2)-4*a*c)**0.5)/2*a\n",
    "                    -  -b-(((b**2)-4*a*c)**0.5)/2*a "
   ]
  },
  {
   "cell_type": "code",
   "execution_count": 20,
   "metadata": {},
   "outputs": [
    {
     "name": "stdout",
     "output_type": "stream",
     "text": [
      "Enter the values of 'a' :1\n",
      "Enter the values of 'b' :2\n",
      "Enter the values of 'c' :3\n",
      "Your quadratic equation is : (1x)**2 + (2)x + (3) =0\n",
      "Solution of given quadratic equation are :\n",
      "(-0.9999999999999999+1.4142135623730951j) and (-1-1.4142135623730951j)\n"
     ]
    }
   ],
   "source": [
    "#take input of a, b & c\n",
    "a = int(input(\"Enter the values of 'a' :\"))\n",
    "b = int(input(\"Enter the values of 'b' :\"))\n",
    "c = int(input(\"Enter the values of 'c' :\"))\n",
    "\n",
    "#print quadratic equation\n",
    "print(\"Your quadratic equation is : ({}x)**2 + ({})x + ({}) =0\".format(a,b,c))\n",
    "\n",
    "#calculate solutions of quadratic equation\n",
    "sol1 = (-b+(((b*b)-4*a*c)**0.5))/2*a\n",
    "sol2 = (-b-(((b**2)-4*a*c)**0.5))/2*a\n",
    "\n",
    "#print solution of quadratic equation\n",
    "print(\"Solution of given quadratic equation are :\\n{} and {}\".format(sol1,sol2))"
   ]
  },
  {
   "cell_type": "markdown",
   "metadata": {},
   "source": [
    "###   5. Write a Python program to swap two variables without temp variable?"
   ]
  },
  {
   "cell_type": "code",
   "execution_count": 30,
   "metadata": {},
   "outputs": [
    {
     "name": "stdout",
     "output_type": "stream",
     "text": [
      "Enter the first variable : 3\n",
      "Enter the second variable : 5\n",
      "Before Swapping\n",
      "values of var1 is :3 and values of var2 is :5\n",
      "After Swapping\n",
      "values of var1 is :5 and values of var2 is :3\n"
     ]
    }
   ],
   "source": [
    "var1 = int(input(\"Enter the first variable : \"))\n",
    "var2 = int(input(\"Enter the second variable : \"))\n",
    "print('Before Swapping\\nvalues of var1 is :{} and values of var2 is :{}'.format(var1,var2))\n",
    "\n",
    "var2 = var1 + var2\n",
    "var1 = var2 - var1\n",
    "var2 = var2 - var1\n",
    "\n",
    "print('After Swapping\\nvalues of var1 is :{} and values of var2 is :{}'.format(var1,var2))"
   ]
  },
  {
   "cell_type": "markdown",
   "metadata": {},
   "source": [
    "<h3 align='right'>Thank you!"
   ]
  }
 ],
 "metadata": {
  "kernelspec": {
   "display_name": "Python 3",
   "language": "python",
   "name": "python3"
  },
  "language_info": {
   "codemirror_mode": {
    "name": "ipython",
    "version": 3
   },
   "file_extension": ".py",
   "mimetype": "text/x-python",
   "name": "python",
   "nbconvert_exporter": "python",
   "pygments_lexer": "ipython3",
   "version": "3.8.5"
  }
 },
 "nbformat": 4,
 "nbformat_minor": 4
}
