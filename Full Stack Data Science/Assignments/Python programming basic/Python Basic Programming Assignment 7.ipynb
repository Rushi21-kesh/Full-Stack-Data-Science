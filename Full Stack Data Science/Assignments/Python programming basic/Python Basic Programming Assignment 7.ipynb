{
 "cells": [
  {
   "cell_type": "markdown",
   "metadata": {},
   "source": [
    "![ineuron](https://d24cdstip7q8pz.cloudfront.net/t/ineuron1/content/common/images/final%20logo.png)\n",
    "\n",
    "<h1 align='center'>Python Basic Programming Assignment 7"
   ]
  },
  {
   "cell_type": "markdown",
   "metadata": {},
   "source": [
    "### 1.\tWrite a Python Program to find sum of array?\n",
    "\n",
    "#### Answer : \n",
    "\n",
    "    - Here,\n",
    "        - I created a random array using random module"
   ]
  },
  {
   "cell_type": "code",
   "execution_count": 34,
   "metadata": {},
   "outputs": [
    {
     "name": "stdout",
     "output_type": "stream",
     "text": [
      "Array is : [41 19  4 11 38  1  5 37 35]\n",
      "Sum of array element is: 191\n"
     ]
    }
   ],
   "source": [
    "import numpy as np\n",
    "import random\n",
    "arr = np.random.randint(1,50,(random.randint(7,12)))\n",
    "ar_sum = 0\n",
    "\n",
    "def array_sum(ar,ar_sum):  \n",
    "    for i in ar:\n",
    "        ar_sum += i\n",
    "    return ar_sum\n",
    "\n",
    "ar_sum = array_sum(arr,ar_sum)    \n",
    "\n",
    "print('Array is : {}\\nSum of array element is: {}'.format(arr,ar_sum))"
   ]
  },
  {
   "cell_type": "markdown",
   "metadata": {},
   "source": [
    "### 2.\tWrite a Python Program to find largest element in an array?\n",
    "\n",
    "#### Answer : \n",
    "    \n",
    "    - I created a random array using random module"
   ]
  },
  {
   "cell_type": "code",
   "execution_count": 39,
   "metadata": {},
   "outputs": [
    {
     "name": "stdout",
     "output_type": "stream",
     "text": [
      "Array is : [28 42  2 13 35  8 21 30 24  5]\n",
      "Largest array element is: 42\n"
     ]
    }
   ],
   "source": [
    "import numpy as np\n",
    "import random\n",
    "\n",
    "arr = np.random.randint(1,50,(random.randint(10,15)))\n",
    "large = 0\n",
    "def find_large_ele(arr,large):\n",
    "    for i in arr:\n",
    "        if i > large:\n",
    "            large = i\n",
    "    return large\n",
    "large = find_large_ele(arr,large)\n",
    "\n",
    "print('Array is : {}\\nLargest array element is: {}'.format(arr,large))"
   ]
  },
  {
   "cell_type": "markdown",
   "metadata": {},
   "source": [
    "### 3.\tWrite a Python Program for array rotation?\n",
    "#### Answer :\n"
   ]
  },
  {
   "cell_type": "code",
   "execution_count": 144,
   "metadata": {},
   "outputs": [
    {
     "name": "stdout",
     "output_type": "stream",
     "text": [
      "How many index you want to rotate : 8\n"
     ]
    },
    {
     "data": {
      "text/plain": [
       "[9, 1, 2, 3, 4, 5, 6, 7, 8]"
      ]
     },
     "execution_count": 144,
     "metadata": {},
     "output_type": "execute_result"
    }
   ],
   "source": [
    "array = [1,2,3,4,5,6,7,8,9]\n",
    "i = int(input(\"How many index you want to rotate : \"))\n",
    "\n",
    "def rorate(array,i):\n",
    "    if i < len(array):\n",
    "        return array[i:]+array[:i]\n",
    "    else:\n",
    "        return 'Index length is greater than or equal to length or array'\n",
    "rorate(array,i)"
   ]
  },
  {
   "cell_type": "markdown",
   "metadata": {},
   "source": [
    "### 4.\tWrite a Python Program to Split the array and add the first part to the end?"
   ]
  },
  {
   "cell_type": "code",
   "execution_count": 132,
   "metadata": {},
   "outputs": [
    {
     "name": "stdout",
     "output_type": "stream",
     "text": [
      "Enter the length of first part you want : 5\n",
      "First part we select is :  [40, 33, 29, 43, 41]\n",
      "Remaining part is cosidered as second part :  [25, 8, 8, 42, 1]\n",
      "Now, we add first part to the end and get : \n"
     ]
    },
    {
     "data": {
      "text/plain": [
       "[25, 8, 8, 42, 1, 40, 33, 29, 43, 41]"
      ]
     },
     "execution_count": 132,
     "metadata": {},
     "output_type": "execute_result"
    }
   ],
   "source": [
    "import numpy as np\n",
    "arr = [40, 33, 29, 43, 41, 25,  8,  8, 42,  1]\n",
    "l = len(arr)\n",
    "d = int(input(\"Enter the length of first part you want : \"))\n",
    "def split_arr(d,l):\n",
    "    if d < l : \n",
    "        n_l =arr[d:]+arr[:d]\n",
    "        print(\"First part we select is : \",arr[:d])\n",
    "        print(\"Remaining part is cosidered as second part : \", arr[d:])\n",
    "        print(\"Now, we add first part to the end and get : \")\n",
    "        return n_l\n",
    "    else:\n",
    "        return (\"Please make sure, first part size is less than length of array\")\n",
    "\n",
    "split_arr(d,l)"
   ]
  },
  {
   "cell_type": "markdown",
   "metadata": {},
   "source": [
    "\n",
    "### 5.\tWrite a Python Program to check if given array is Monotonic?"
   ]
  },
  {
   "cell_type": "code",
   "execution_count": 134,
   "metadata": {},
   "outputs": [
    {
     "data": {
      "text/plain": [
       "'Given array is not Monotonic'"
      ]
     },
     "execution_count": 134,
     "metadata": {},
     "output_type": "execute_result"
    }
   ],
   "source": [
    "array = [1,2,0,3,4,5]\n",
    "\n",
    "def check_monotonic(l):\n",
    "    if all([l[x]<=l[x+1] for x in range(len(l)-1)]) or all([l[x]>=l[x+1] for x in range(len(l)-1)]):\n",
    "        return 'Given array is Monotonic'\n",
    "    else:\n",
    "        return 'Given array is not Monotonic'\n",
    "check_monotonic(array)"
   ]
  },
  {
   "cell_type": "markdown",
   "metadata": {},
   "source": [
    "<h3 align='right'>Thank you ....!"
   ]
  }
 ],
 "metadata": {
  "kernelspec": {
   "display_name": "Python 3",
   "language": "python",
   "name": "python3"
  },
  "language_info": {
   "codemirror_mode": {
    "name": "ipython",
    "version": 3
   },
   "file_extension": ".py",
   "mimetype": "text/x-python",
   "name": "python",
   "nbconvert_exporter": "python",
   "pygments_lexer": "ipython3",
   "version": "3.8.5"
  }
 },
 "nbformat": 4,
 "nbformat_minor": 4
}
