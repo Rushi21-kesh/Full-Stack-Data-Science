{
 "cells": [
  {
   "cell_type": "markdown",
   "metadata": {},
   "source": [
    "<h1 align='center'>Python Basic Programming Assignment 4"
   ]
  },
  {
   "cell_type": "markdown",
   "metadata": {},
   "source": [
    "###  1. Write a Python Program to Find the Factorial of a Number?"
   ]
  },
  {
   "cell_type": "code",
   "execution_count": 1,
   "metadata": {},
   "outputs": [
    {
     "name": "stdout",
     "output_type": "stream",
     "text": [
      "Enter the number :14\n",
      "Facotrial of 14 is 87178291200\n"
     ]
    }
   ],
   "source": [
    "num = int(input(\"Enter the number :\"))\n",
    "c = 1\n",
    "for i in range(1,num+1):\n",
    "    c = c*i\n",
    "print('Facotrial of {} is {}'.format(num,c))"
   ]
  },
  {
   "cell_type": "markdown",
   "metadata": {},
   "source": [
    "###   2. Write a Python Program to Display the multiplication Table?"
   ]
  },
  {
   "cell_type": "code",
   "execution_count": 2,
   "metadata": {},
   "outputs": [
    {
     "name": "stdout",
     "output_type": "stream",
     "text": [
      "Enter the number :17\n",
      "Table of  17\n",
      "17\n",
      "34\n",
      "51\n",
      "68\n",
      "85\n",
      "102\n",
      "119\n",
      "136\n",
      "153\n",
      "170\n"
     ]
    }
   ],
   "source": [
    "#take input as number\n",
    "num = int(input(\"Enter the number :\"))\n",
    "print(\"Table of \",num)\n",
    "#it\n",
    "for i in range(1,11):\n",
    "    print(i*num)"
   ]
  },
  {
   "cell_type": "markdown",
   "metadata": {},
   "source": [
    "###  3. Write a Python Program to Print the Fibonacci sequence?\n"
   ]
  },
  {
   "cell_type": "code",
   "execution_count": 3,
   "metadata": {},
   "outputs": [
    {
     "name": "stdout",
     "output_type": "stream",
     "text": [
      "Length of Fibonacci sequence want : 13\n",
      "0 1 1 2 3 5 8 13 21 34 55 89 144 "
     ]
    }
   ],
   "source": [
    "#take length as a input\n",
    "num = int(input(\"Length of Fibonacci sequence want : \"))\n",
    "\n",
    "#set f = 0, it is use for incrementing with previous\n",
    "f = 0\n",
    "\n",
    "#set first element as 0\n",
    "f0 = 0 \n",
    "\n",
    "#set second element as 1\n",
    "f1 = 1\n",
    "\n",
    "if num>=1: #check length is greater than 1 or not\n",
    "    for i in range(num):  #iterate till the end of length provided\n",
    "            print(f0,end=' ') #print f0\n",
    "            \n",
    "            #performing swapping\n",
    "            f = f0 + f1 \n",
    "            f0 = f1\n",
    "            f1 = f\n",
    "else:\n",
    "    print(\"Element list must be greater then 0\")"
   ]
  },
  {
   "cell_type": "markdown",
   "metadata": {},
   "source": [
    "###  4. Write a Python Program to Check Armstrong Number?\n",
    "\n",
    "\n",
    "- Armstrong number : \n",
    "\n",
    "            - sum of power of each digit of a number power equal to number of digit in number if it's equal to original  number then it is armstrong number.\n",
    "            \n",
    "            - ex :\n",
    "                    153 (length is 3):\n",
    "                        = 1**3 + 5**3 + 3**3 \n",
    "                        = 1 + 125 + 27\n",
    "                        = 153\n",
    "               it means it is Armstrong Number\n",
    "             \n",
    "             - ex : \n",
    "                   1453 (length is 4):\n",
    "                        = 1**4 + 4**4 + 5**4 + 3**4 \n",
    "                        = 1 + 126 + 625 + 81\n",
    "                        = 963\n",
    "               it means it is not Armstrong Number"
   ]
  },
  {
   "cell_type": "code",
   "execution_count": 5,
   "metadata": {},
   "outputs": [
    {
     "name": "stdout",
     "output_type": "stream",
     "text": [
      "Enter the number : 154\n",
      "154 is not Armstrong Number\n"
     ]
    }
   ],
   "source": [
    "#take numper as input\n",
    "num = int(input(\"Enter the number : \"))\n",
    "\n",
    "#get length of number\n",
    "l = len(str(num))\n",
    "\n",
    "#copy number to other variable\n",
    "numc = num\n",
    "a = 0\n",
    "while(numc!=0):       # check numc is not equal to 0\n",
    "    r = numc % 10     # get last element of number (remainder after dividing by 10)\n",
    "    a = a + r**l      # take a power of remainder where power is based on len of number\n",
    "    numc = numc//10   # get a quotient()\n",
    "\n",
    "#check number is Armstrong or not\n",
    "if num==a:\n",
    "    print('{} is a Armstrong Number'.format(num))\n",
    "else:\n",
    "    print('{} is not Armstrong Number'.format(num))"
   ]
  },
  {
   "cell_type": "markdown",
   "metadata": {},
   "source": [
    "###  5. Write a Python Program to Find Armstrong Number in an Interval?\n"
   ]
  },
  {
   "cell_type": "code",
   "execution_count": 6,
   "metadata": {},
   "outputs": [
    {
     "name": "stdout",
     "output_type": "stream",
     "text": [
      "Enter the start element of Interval :200\n",
      "Enter the end element of Interval :500\n",
      "List of Armstrong number in an Inrerval if 200 to 500 are:\n",
      "\n",
      "370 371 407 "
     ]
    }
   ],
   "source": [
    "start = int(input(\"Enter the start element of Interval :\"))\n",
    "end = int(input(\"Enter the end element of Interval :\"))\n",
    "\n",
    "print(\"List of Armstrong number in an Inrerval if {} to {} are:\\n\".format(start,end))\n",
    "for num in range(start,end):\n",
    "    #take numper as input\n",
    "    #num = int(input(\"Enter the number : \"))\n",
    "\n",
    "    #get length of number\n",
    "    l = len(str(num))\n",
    "\n",
    "    #copy number to other variable\n",
    "    numc = num\n",
    "    a = 0\n",
    "    while(numc!=0):       # check numc is not equal to 0\n",
    "        r = numc % 10     # get last element of number (remainder after dividing by 10)\n",
    "        a = a + r**l      # take a power of remainder where power is based on len of number\n",
    "        numc = numc//10   # get a quotient()\n",
    "\n",
    "    #check number is Armstrong or not\n",
    "    if num==a:\n",
    "        print(num,end=' ')"
   ]
  },
  {
   "cell_type": "markdown",
   "metadata": {},
   "source": [
    "###   6. Write a Python Program to Find the Sum of Natural Numbers?"
   ]
  },
  {
   "cell_type": "code",
   "execution_count": 8,
   "metadata": {},
   "outputs": [
    {
     "name": "stdout",
     "output_type": "stream",
     "text": [
      "Enter the start :1\n",
      "Enter the end :10\n",
      "Sum of natural number between and include 1 and 10 is 55\n"
     ]
    }
   ],
   "source": [
    "start = int(input(\"Enter the start :\"))\n",
    "end = int(input(\"Enter the end :\"))\n",
    "sum = 0\n",
    "if start >=0 and end >=start:\n",
    "    for i in range(start,end+1):\n",
    "        sum = sum + i\n",
    "    print('Sum of natural number between and include {} and {} is {}'.format(start,end,sum))\n",
    "else:\n",
    "    print('start is must be greater than 0 and end must be greater than start')"
   ]
  },
  {
   "cell_type": "markdown",
   "metadata": {},
   "source": [
    "<h3 align='right'>Thank you!"
   ]
  }
 ],
 "metadata": {
  "kernelspec": {
   "display_name": "Python 3",
   "language": "python",
   "name": "python3"
  },
  "language_info": {
   "codemirror_mode": {
    "name": "ipython",
    "version": 3
   },
   "file_extension": ".py",
   "mimetype": "text/x-python",
   "name": "python",
   "nbconvert_exporter": "python",
   "pygments_lexer": "ipython3",
   "version": "3.8.5"
  }
 },
 "nbformat": 4,
 "nbformat_minor": 4
}
