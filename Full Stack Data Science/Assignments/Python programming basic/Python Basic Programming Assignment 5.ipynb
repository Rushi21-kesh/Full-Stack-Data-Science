{
 "cells": [
  {
   "cell_type": "markdown",
   "id": "outer-slave",
   "metadata": {},
   "source": [
    "![ineuron](https://d24cdstip7q8pz.cloudfront.net/t/ineuron1/content/common/images/final%20logo.png)\n",
    "\n",
    "<h1 align='center'>Python Basic Programming Assignment 5"
   ]
  },
  {
   "cell_type": "markdown",
   "id": "allied-actress",
   "metadata": {},
   "source": [
    "### 1.\tWrite a Python Program to Find LCM?\n",
    "\n",
    "- LCM is a Least / Lowest common multiple of numbers\n",
    "- It is a lowest positive integer which is divided by both numbers\n",
    "\n",
    "    - Eg:\n",
    "            9  = 3*3\n",
    "            12 = 2*2*3 \n",
    "            \n",
    "            here LCM is 3 because 3 is alowest common multiple of both 9 & 12"
   ]
  },
  {
   "cell_type": "code",
   "execution_count": 1,
   "id": "tamil-audio",
   "metadata": {},
   "outputs": [
    {
     "name": "stdout",
     "output_type": "stream",
     "text": [
      "Enter number 1: 9\n",
      "Enter number 2: 12\n",
      "LCM of the number 9 and 12 is : 3\n"
     ]
    }
   ],
   "source": [
    "# take a two integer number as input\n",
    "num1 = int(input(\"Enter number 1: \"))\n",
    "num2 = int(input(\"Enter number 2: \"))\n",
    "\n",
    "#check minimum number between two \n",
    "if num1<num2:\n",
    "    min_num = num1\n",
    "else:\n",
    "    min_num = num2\n",
    "\n",
    "#now write a code in for loop to check LCM\n",
    "for i in range(1,min_num+1):\n",
    "    if i>1 and num1%i==0 and num2%i==0: #check number is multiple of both inputed number\n",
    "        print(\"LCM of the number {} and {} is : {}\".format(num1,num2,i))\n",
    "        break"
   ]
  },
  {
   "cell_type": "code",
   "execution_count": 2,
   "id": "polyphonic-faculty",
   "metadata": {},
   "outputs": [
    {
     "name": "stdout",
     "output_type": "stream",
     "text": [
      "Enter number 1: 76\n",
      "Enter number 2: 96\n",
      "LCM of the number 76 and 96 is : 2\n"
     ]
    }
   ],
   "source": [
    "# take a two integer number as input\n",
    "num1 = int(input(\"Enter number 1: \"))\n",
    "num2 = int(input(\"Enter number 2: \"))\n",
    "\n",
    "#check minimum number between two \n",
    "if num1<num2:\n",
    "    min_num = num1\n",
    "else:\n",
    "    min_num = num2\n",
    "i = 2\n",
    "#now write a code in while to check LCM\n",
    "while(i<min_num):\n",
    "    if num1%i==0 and num2%i==0: #check number is multiple of both inputed number\n",
    "        print(\"LCM of the number {} and {} is : {}\".format(num1,num2,i))\n",
    "        break\n",
    "    i+=1"
   ]
  },
  {
   "cell_type": "markdown",
   "id": "living-finland",
   "metadata": {},
   "source": [
    "### 2.\tWrite a Python Program to Find HCF?\n",
    "#### Answer : \n",
    "\n",
    "- HCF is a highest common factor of numbers\n",
    "- It is a highest positive integer which is divided by both numbers\n",
    "\n",
    "    - Eg:\n",
    "            45  = 3*3*5\n",
    "            75  = 3*5*5 \n",
    "            \n",
    "            from both 5 & 3 are common factor, therefore 5*3=15 is a HCF"
   ]
  },
  {
   "cell_type": "code",
   "execution_count": 3,
   "id": "adolescent-nomination",
   "metadata": {},
   "outputs": [
    {
     "name": "stdout",
     "output_type": "stream",
     "text": [
      "Enter number 1: 45\n",
      "Enter number 2: 75\n",
      "HCF of the number 45 and 75 is : 15\n"
     ]
    }
   ],
   "source": [
    "# take a two integer number as input\n",
    "num1 = int(input(\"Enter number 1: \"))\n",
    "num2 = int(input(\"Enter number 2: \"))\n",
    "\n",
    "#check minimum number between two \n",
    "if num1<num2:\n",
    "    min_num = num1\n",
    "else:\n",
    "    min_num = num2\n",
    "\n",
    "#now write a code using for loop to find HCF\n",
    "for i in range(1,min_num+1):\n",
    "    if num1%i==0 and num2%i==0:\n",
    "        HCF = i\n",
    "    \n",
    "print(\"HCF of the number {} and {} is : {}\".format(num1,num2,HCF))"
   ]
  },
  {
   "cell_type": "code",
   "execution_count": 4,
   "id": "compound-cabinet",
   "metadata": {},
   "outputs": [
    {
     "name": "stdout",
     "output_type": "stream",
     "text": [
      "Enter number 1: 66\n",
      "Enter number 2: 11\n",
      "HCF of the number 66 and 11 is : 11\n"
     ]
    }
   ],
   "source": [
    "# take a two integer number as input\n",
    "num1 = int(input(\"Enter number 1: \"))\n",
    "num2 = int(input(\"Enter number 2: \"))\n",
    "\n",
    "#check minimum number between two \n",
    "if num1<num2:\n",
    "    min_num = num1\n",
    "else:\n",
    "    min_num = num2\n",
    "i = 1\n",
    "\n",
    "##now write a code in for loop to find HCF\n",
    "while(i<(min_num+1)):\n",
    "    if num1%i==0 and num2%i==0: #check number is multiple of both inputed number\n",
    "        HCF = i\n",
    "    i+=1\n",
    "print(\"HCF of the number {} and {} is : {}\".format(num1,num2,HCF))"
   ]
  },
  {
   "cell_type": "markdown",
   "id": "indirect-microphone",
   "metadata": {},
   "source": [
    "### 3.\tWrite a Python Program to Convert Decimal to Binary, Octal and Hexadecimal?"
   ]
  },
  {
   "cell_type": "code",
   "execution_count": 5,
   "id": "processed-capital",
   "metadata": {},
   "outputs": [
    {
     "name": "stdout",
     "output_type": "stream",
     "text": [
      "Enter the Decimal number : 2110\n",
      "Following are their different forms :-\n",
      "\tBinary = 0b100000111110\n",
      "\tOctal = 0o4076\n",
      "\tHexadecimal=0x83e\n"
     ]
    }
   ],
   "source": [
    "num = int(input(\"Enter the Decimal number : \"))\n",
    "\n",
    "# for converting Decimal to Binary we are using bin() function, \"0b\" is a notation of Binary\n",
    "bi = bin(num)\n",
    "\n",
    "# for converting Decimal to Octal we are using oct() function, \"0o\" is a notation of Octal\n",
    "ot = oct(num)\n",
    "# for converting Decimal to Hexadecimal we are using hex() function, \"0x\" is a notation of Hexadecimal\n",
    "hx = hex(num)\n",
    "print(\"Following are their different forms :-\\n\\tBinary = {}\\n\\tOctal = {}\\n\\tHexadecimal={}\".format(bi,ot,hx))"
   ]
  },
  {
   "cell_type": "markdown",
   "id": "smart-europe",
   "metadata": {},
   "source": [
    "### 4.\tWrite a Python Program To Find ASCII value of a character?\n",
    "\n",
    "#### Answer:\n",
    "\n",
    "- Character : It is anything which is having length 1 like letter, number, special symbol,etc\n",
    "    \n",
    "      Eg:\n",
    "           d , 7, ( , = , S , '\n",
    "          \n",
    "- ASCII : It's stand for American Standard Code for Information Interchange\n",
    "      \n",
    "      - ASCII is a code that used to represent character in number forms\n",
    "      \n",
    "      Eg:\n",
    "          char A is having a ASCII value as 65\n",
    "          char * is having a ASCII value as 42\n",
    "          \n",
    "- To get ASCII value of any character we use ord() function\n",
    "      \n",
    "      Eg:\n",
    "          ord(\"*\") = 42"
   ]
  },
  {
   "cell_type": "code",
   "execution_count": 6,
   "id": "waiting-pilot",
   "metadata": {},
   "outputs": [
    {
     "name": "stdout",
     "output_type": "stream",
     "text": [
      "Enter the character : A\n",
      "ASCII value of A is : 65\n"
     ]
    }
   ],
   "source": [
    "char = input(\"Enter the character : \")\n",
    "if len(char)==1:\n",
    "    asc = ord(char)\n",
    "    print(\"ASCII value of {} is : {}\".format(char,asc))\n",
    "else:\n",
    "    print(\"Character length must be 1\")"
   ]
  },
  {
   "cell_type": "markdown",
   "id": "searching-abraham",
   "metadata": {},
   "source": [
    "### 5.\tWrite a Python Program to Make a Simple Calculator with 4 basic mathematical operations"
   ]
  },
  {
   "cell_type": "code",
   "execution_count": 8,
   "id": "green-thursday",
   "metadata": {},
   "outputs": [
    {
     "name": "stdout",
     "output_type": "stream",
     "text": [
      "** This is basic calculater which is able to perform following operation on two integer numbers **\n",
      "1. Addition\t2. Substraction \t3. Multiplication\t4. Division\n",
      "\n",
      "Which operatrion want to perform : Mmultiplication\n",
      "Please type correct operation name.......\n"
     ]
    }
   ],
   "source": [
    "print(\"** This is basic calculater which is able to perform following operation on two integer numbers **\")\n",
    "print(\"1. Addition\\t2. Substraction \\t3. Multiplication\\t4. Division\\n\")\n",
    "\n",
    "#select operation number \n",
    "select = input(\"Which operatrion want to perform : \")\n",
    "\n",
    "#calculater code\n",
    "if select.upper()=='ADDITION' or select.upper()=='SUBSTRACTION' or select.upper()=='MULTIPLICATION' or select.upper()==\"DIVISION\" :\n",
    "        \n",
    "    # take a two integer number as input\n",
    "    num1 = int(input(\"\\tEnter number 1: \"))\n",
    "    num2 = int(input(\"\\tEnter number 2: \"))\n",
    "\n",
    "    # code for Addition\n",
    "    if select.upper()=='ADDITION':\n",
    "        add = num1+num2\n",
    "        print(\"\\t\\t{} + {} = {}\".format(num1,num2,add))\n",
    "\n",
    "    # code for Substraction\n",
    "    elif select.upper()=='SUBSTRACTION':\n",
    "        sub = num1-num2\n",
    "        print(\"\\t\\t{} - {} = {}\".format(num1,num2,sub))\n",
    "\n",
    "    # code for Multiplication\n",
    "    elif select.upper()=='MULTIPLICATION':\n",
    "        mul = num1*num2\n",
    "        print(\"\\t\\t{} * {} = {}\".format(num1,num2,mul))\n",
    "\n",
    "    # code for Division\n",
    "    elif select.upper()==\"DIVISION\":\n",
    "        div = num1/num2\n",
    "        print(\"\\t\\t{} / {} = {}\".format(num1,num2,div))\n",
    "\n",
    "else:\n",
    "    print(\"Please type correct operation name.......\")\n",
    "    "
   ]
  },
  {
   "cell_type": "code",
   "execution_count": 9,
   "id": "sustained-pittsburgh",
   "metadata": {},
   "outputs": [
    {
     "name": "stdout",
     "output_type": "stream",
     "text": [
      "** This is basic calculater which is able to perform following operation on two integer numbers **\n",
      "1. Addition\t2. Substraction \t3. Multiplication\t4. Division\n",
      "\n",
      "Which operatrion want to perform : Multiplication\n",
      "\tEnter number 1: 8\n",
      "\tEnter number 2: 7\n",
      "\t\t8 * 7 = 56\n"
     ]
    }
   ],
   "source": [
    "print(\"** This is basic calculater which is able to perform following operation on two integer numbers **\")\n",
    "print(\"1. Addition\\t2. Substraction \\t3. Multiplication\\t4. Division\\n\")\n",
    "\n",
    "#select operation number \n",
    "select = input(\"Which operatrion want to perform : \")\n",
    "\n",
    "#calculater code\n",
    "if select.upper()=='ADDITION' or select.upper()=='SUBSTRACTION' or select.upper()=='MULTIPLICATION' or select.upper()==\"DIVISION\" :\n",
    "        \n",
    "    # take a two integer number as input\n",
    "    num1 = int(input(\"\\tEnter number 1: \"))\n",
    "    num2 = int(input(\"\\tEnter number 2: \"))\n",
    "\n",
    "    # code for Addition\n",
    "    if select.upper()=='ADDITION':\n",
    "        add = num1+num2\n",
    "        print(\"\\t\\t{} + {} = {}\".format(num1,num2,add))\n",
    "\n",
    "    # code for Substraction\n",
    "    elif select.upper()=='SUBSTRACTION':\n",
    "        sub = num1-num2\n",
    "        print(\"\\t\\t{} - {} = {}\".format(num1,num2,sub))\n",
    "\n",
    "    # code for Multiplication\n",
    "    elif select.upper()=='MULTIPLICATION':\n",
    "        mul = num1*num2\n",
    "        print(\"\\t\\t{} * {} = {}\".format(num1,num2,mul))\n",
    "\n",
    "    # code for Division\n",
    "    elif select.upper()==\"DIVISION\":\n",
    "        div = num1/num2\n",
    "        print(\"\\t\\t{} / {} = {}\".format(num1,num2,div))\n",
    "\n",
    "else:\n",
    "    print(\"Please type correct operation name.......\")\n",
    "    "
   ]
  },
  {
   "cell_type": "markdown",
   "id": "express-smart",
   "metadata": {},
   "source": [
    "<h4 align='right'>Thank you!"
   ]
  }
 ],
 "metadata": {
  "kernelspec": {
   "display_name": "Python 3",
   "language": "python",
   "name": "python3"
  },
  "language_info": {
   "codemirror_mode": {
    "name": "ipython",
    "version": 3
   },
   "file_extension": ".py",
   "mimetype": "text/x-python",
   "name": "python",
   "nbconvert_exporter": "python",
   "pygments_lexer": "ipython3",
   "version": "3.9.1"
  }
 },
 "nbformat": 4,
 "nbformat_minor": 5
}
