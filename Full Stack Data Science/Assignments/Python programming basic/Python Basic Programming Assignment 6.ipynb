{
 "cells": [
  {
   "cell_type": "markdown",
   "metadata": {},
   "source": [
    "![ineuron](https://d24cdstip7q8pz.cloudfront.net/t/ineuron1/content/common/images/final%20logo.png)\n",
    "\n",
    "<h1 align='center'>Python Basic Programming Assignment 6"
   ]
  },
  {
   "cell_type": "markdown",
   "metadata": {},
   "source": [
    "### 1.\tWrite a Python Program to Display Fibonacci Sequence Using Recursion?\n"
   ]
  },
  {
   "cell_type": "code",
   "execution_count": 1,
   "metadata": {},
   "outputs": [
    {
     "name": "stdout",
     "output_type": "stream",
     "text": [
      "Length of Fibonacci sequence want : 15\n",
      "0 1 1 2 3 5 8 13 21 34 55 89 144 233 377 610 "
     ]
    }
   ],
   "source": [
    "num = int(input(\"Length of Fibonacci sequence want : \"))\n",
    "\n",
    "f0 = 0\n",
    "f1 = 1 \n",
    "\n",
    "def fibo(num):\n",
    "    global f0,f1\n",
    "    print(f0, end= \" \")\n",
    "    if num>0:\n",
    "        f0 , f1 = f1 , f0+f1\n",
    "        \n",
    "        #here i performed recursion\n",
    "        return fibo(num-1)\n",
    "    \n",
    "fibo(num)"
   ]
  },
  {
   "cell_type": "markdown",
   "metadata": {},
   "source": [
    "### 2.\tWrite a Python Program to Find Factorial of Number Using Recursion?"
   ]
  },
  {
   "cell_type": "code",
   "execution_count": 2,
   "metadata": {},
   "outputs": [
    {
     "name": "stdout",
     "output_type": "stream",
     "text": [
      "Enter the number : 12\n"
     ]
    },
    {
     "data": {
      "text/plain": [
       "479001600"
      ]
     },
     "execution_count": 2,
     "metadata": {},
     "output_type": "execute_result"
    }
   ],
   "source": [
    "num = int(input(\"Enter the number : \"))\n",
    "\n",
    "def facto(num):\n",
    "    \n",
    "    #check number is equal to 1 and if condition is True return facorical of 0 i.e 1\n",
    "    if num==0:\n",
    "        return 1\n",
    "    \n",
    "    return num * facto(num-1)      #here i performed recursion\n",
    "\n",
    "facto(num)"
   ]
  },
  {
   "cell_type": "markdown",
   "metadata": {},
   "source": [
    "### 3.\tWrite a Python Program to calculate your Body Mass Index?\n",
    "\n",
    "#### Answer :\n",
    "\n",
    "Formula for calculating Body Mass Index is :\n",
    "    \n",
    "                    (weight in kg)                   \n",
    "      BMI = -------------------------------------\n",
    "             (height in meter)*(height in meter)"
   ]
  },
  {
   "cell_type": "code",
   "execution_count": 3,
   "metadata": {},
   "outputs": [
    {
     "name": "stdout",
     "output_type": "stream",
     "text": [
      "Enter yout height (cm) : 176\n",
      "Enter your weight (Kg) 61\n",
      "Your Body Mass Index is :  19.69\n"
     ]
    }
   ],
   "source": [
    "\n",
    "def BMI_CAl():\n",
    "\n",
    "    height = float(input(\"Enter yout height (cm) : \"))\n",
    "    weight = float(input(\"Enter your weight (Kg) \"))\n",
    "    \n",
    "    return (weight/(height/100)**2)\n",
    "\n",
    "bmi = BMI_CAl()\n",
    "print('Your Body Mass Index is : ', round(bmi,2))"
   ]
  },
  {
   "cell_type": "markdown",
   "metadata": {},
   "source": [
    "### 4.\tWrite a Python Program to calculate the natural logarithm of any number?"
   ]
  },
  {
   "cell_type": "code",
   "execution_count": 4,
   "metadata": {},
   "outputs": [
    {
     "name": "stdout",
     "output_type": "stream",
     "text": [
      "Enter the number : 12\n",
      "natural logarithm of  12.0  is  2.4849066497880004\n"
     ]
    },
    {
     "data": {
      "text/plain": [
       "(12.0, 2.4849066497880004)"
      ]
     },
     "execution_count": 4,
     "metadata": {},
     "output_type": "execute_result"
    }
   ],
   "source": [
    "import math\n",
    "\n",
    "def nat_log():\n",
    "    try:\n",
    "        num = float(input(\"Enter the number : \" ))\n",
    "        log = math.log(num)\n",
    "        print(\"natural logarithm of \",num,\" is \",log )\n",
    "        return num , log\n",
    "    except :\n",
    "        print(\"Value must be greater than 0 \")\n",
    "        \n",
    "nat_log()"
   ]
  },
  {
   "cell_type": "code",
   "execution_count": 10,
   "metadata": {},
   "outputs": [
    {
     "name": "stdout",
     "output_type": "stream",
     "text": [
      "Enter the number : 10\n",
      "Enter the base of log : 2\n",
      "Logarithm of 10.0 having base 2.0 is 3.3219280948873626\n"
     ]
    },
    {
     "data": {
      "text/plain": [
       "3.3219280948873626"
      ]
     },
     "execution_count": 10,
     "metadata": {},
     "output_type": "execute_result"
    }
   ],
   "source": [
    "import math\n",
    "\n",
    "def nat_log_base():\n",
    "    try:\n",
    "        num = float(input(\"Enter the number : \" ))\n",
    "        base = float(input(\"Enter the base of log : \"))\n",
    "        log = math.log(num,base)\n",
    "        print(\"Logarithm of {} having base {} is {}\".format(num,base,log ))\n",
    "        return log\n",
    "    except :\n",
    "        print(\"Value of log must be greater than 0 \")\n",
    "        \n",
    "nat_log_base()"
   ]
  },
  {
   "cell_type": "markdown",
   "metadata": {},
   "source": [
    "### 5.\tWrite a Python Program for cube sum of first n natural numbers?"
   ]
  },
  {
   "cell_type": "code",
   "execution_count": 11,
   "metadata": {},
   "outputs": [
    {
     "name": "stdout",
     "output_type": "stream",
     "text": [
      "Enter the number : 5\n"
     ]
    },
    {
     "data": {
      "text/plain": [
       "225"
      ]
     },
     "execution_count": 11,
     "metadata": {},
     "output_type": "execute_result"
    }
   ],
   "source": [
    "i = 0\n",
    "def cube_sim():\n",
    "    \"\"\" This is simple function which is help us to find cube sum of first n natural numbers. \"\"\"\n",
    "    num = int(input(\"Enter the number : \"))\n",
    "    i = 0\n",
    "    for j in range(1,num+1):\n",
    "        i = i+j**3\n",
    "    return i\n",
    "cube_sim()"
   ]
  },
  {
   "cell_type": "code",
   "execution_count": 12,
   "metadata": {},
   "outputs": [
    {
     "name": "stdout",
     "output_type": "stream",
     "text": [
      "Enter the number : 7\n"
     ]
    },
    {
     "data": {
      "text/plain": [
       "784"
      ]
     },
     "execution_count": 12,
     "metadata": {},
     "output_type": "execute_result"
    }
   ],
   "source": [
    "num = int(input(\"Enter the number : \"))\n",
    "\n",
    "def cube_rec(num):\n",
    "    \"\"\" This is recursion function which is help us to find cube sum of first n natural numbers. \"\"\"    \n",
    "    if num==1:\n",
    "        return 1\n",
    "    return num**3 + cube_rec(num - 1)\n",
    "\n",
    "cube_rec(num)"
   ]
  },
  {
   "cell_type": "markdown",
   "metadata": {},
   "source": [
    "<h3 align='right'> Thank you .......!"
   ]
  }
 ],
 "metadata": {
  "kernelspec": {
   "display_name": "Python 3",
   "language": "python",
   "name": "python3"
  },
  "language_info": {
   "codemirror_mode": {
    "name": "ipython",
    "version": 3
   },
   "file_extension": ".py",
   "mimetype": "text/x-python",
   "name": "python",
   "nbconvert_exporter": "python",
   "pygments_lexer": "ipython3",
   "version": "3.8.5"
  }
 },
 "nbformat": 4,
 "nbformat_minor": 4
}
